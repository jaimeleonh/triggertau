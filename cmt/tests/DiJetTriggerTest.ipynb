{
 "cells": [
  {
   "cell_type": "markdown",
   "metadata": {},
   "source": [
    "# Trying to reproduce the trigger requirements by hand\n",
    "\n",
    "Two alternatives: \n",
    "    - Using RDataFrame (what is used in the usual 2D plots)\n",
    "    - Using loops (quite slow but more visual)"
   ]
  },
  {
   "cell_type": "code",
   "execution_count": 2,
   "metadata": {},
   "outputs": [
    {
     "name": "stdout",
     "output_type": "stream",
     "text": [
      "Welcome to JupyROOT 6.18/04\n"
     ]
    }
   ],
   "source": [
    "from analysis_tools import Dataset, Process, Feature\n",
    "from pprint import pprint\n",
    "import ROOT\n",
    "ROOT.ROOT.EnableImplicitMT()\n",
    "\n",
    "\n",
    "# CONSTANTS\n",
    "DO_LOOPS = True\n",
    "xx = 34\n",
    "yy = 26\n",
    "zz = 64\n",
    "\n",
    "zz1 = 64\n",
    "zz2 = 64\n",
    "\n",
    "ADD_TO_JETS = 10\n",
    "MIN_JETS = 1\n",
    "MAX_JETS = 1\n",
    "ADD_TO_LEADING_TAU = 18\n",
    "ADD_TO_SUBLEADING_TAU = 8\n",
    "ADD_TO_TRIGGER_JETS = 10"
   ]
  },
  {
   "cell_type": "code",
   "execution_count": 2,
   "metadata": {},
   "outputs": [
    {
     "name": "stdout",
     "output_type": "stream",
     "text": [
      "['/eos/user/j/jleonhol/HH/htautau_ggf//NANO_NANO_1.root']\n"
     ]
    }
   ],
   "source": [
    "# Declare process and dataset objects\n",
    "ggf_sm_process = Process(\"ggf_sm\", \"GGFSM\", color=(0, 0, 0))\n",
    "ggf_bis = Dataset(\"ggf_sm_bis\",\n",
    "             #\"/eos/user/j/jleonhol/HH/ggf_2018_nanotest2/\",\n",
    "             \"/eos/user/j/jleonhol/HH/htautau_ggf/\",\n",
    "             ggf_sm_process)\n",
    "\n",
    "# build RDataFrame and open TFile to obtain the results using both methods\n",
    "files = ggf_bis.get_files()[0:1]\n",
    "print files\n",
    "dataframe_files = ROOT.vector(str)()\n",
    "for f in files:\n",
    "    dataframe_files.push_back(f)\n",
    "df = ROOT.RDataFrame(\"Events\", dataframe_files)\n",
    "\n",
    "\n",
    "if DO_LOOPS:\n",
    "    f = ROOT.TChain(\"Events\")\n",
    "    for file in files:\n",
    "        f.Add(file)\n",
    "    #f = ROOT.TFile.Open(files[0])\n"
   ]
  },
  {
   "cell_type": "markdown",
   "metadata": {},
   "source": [
    "## RDataFrame"
   ]
  },
  {
   "cell_type": "markdown",
   "metadata": {},
   "source": [
    "### Previous definitions"
   ]
  },
  {
   "cell_type": "code",
   "execution_count": 3,
   "metadata": {},
   "outputs": [],
   "source": [
    "# some definitions needed \n",
    "def add_to_root(root):\n",
    "    root.gInterpreter.Declare(\"\"\"\n",
    "        using Vfloat = const ROOT::RVec<float>&;      \n",
    "        ROOT::RVec<ROOT::RVec<float>> lead_sublead(Vfloat pt, Vfloat eta, Vfloat phi, Vfloat mass){\n",
    "            ROOT::RVec<float> leading_pts = {-1., -1.};\n",
    "            ROOT::RVec<float> leading_etas = {-1., -1.};\n",
    "            ROOT::RVec<float> leading_phis = {-1., -1.};\n",
    "            ROOT::RVec<float> leading_mass = {-1., -1.};\n",
    "            for (size_t i = 0; i < pt.size(); i++) {\n",
    "                if (pt[i] > leading_pts[0]){\n",
    "                    leading_pts[1] = leading_pts[0];\n",
    "                    leading_etas[1] = leading_etas[0];\n",
    "                    leading_phis[1] = leading_phis[0];\n",
    "                    leading_mass[1] = leading_mass[0];\n",
    "    \n",
    "                    leading_pts[0] = pt[i];\n",
    "                    leading_etas[0] = eta[i];\n",
    "                    leading_phis[0] = phi[i];\n",
    "                    leading_mass[0] = mass[i];\n",
    "                } \n",
    "                else if (pt[i] > leading_pts[1]){\n",
    "                    leading_pts[1] = pt[i];\n",
    "                    leading_etas[1] = eta[i];\n",
    "                    leading_phis[1] = phi[i];\n",
    "                    leading_mass[1] = mass[i];\n",
    "                }\n",
    "            }\n",
    "            return ROOT::RVec({leading_pts, leading_etas, leading_phis, leading_mass});\n",
    "        }\n",
    "    \"\"\")\n",
    "    \n",
    "    root.gInterpreter.Declare(\"\"\"\n",
    "        Double_t Phi_mpi_pi(Double_t x) {\n",
    "            while (x >= 3.14159) x -= (2 * 3.14159);\n",
    "            while (x < -3.14159) x += (2 * 3.14159);\n",
    "            return x;\n",
    "        }\n",
    "    \"\"\")\n",
    "\n",
    "    root.gInterpreter.Declare(\"\"\"\n",
    "        #include \"TMath.h\"\n",
    "        using Vfloat = const ROOT::RVec<float>&;      \n",
    "        ROOT::RVec<bool> maskDeltaR(Vfloat eta1, Vfloat phi1, Vfloat eta2, Vfloat phi2, float th_dr) {\n",
    "            ROOT::RVec<bool> mask;\n",
    "            for (size_t i = 0; i < eta1.size(); i++){\n",
    "                bool bigger_deltar = true;\n",
    "                for (size_t j = 0; j < eta2.size(); j++){\n",
    "                    Double_t deta = eta1[i] - eta2[j];\n",
    "                    Double_t dphi = Phi_mpi_pi(phi1[i] - phi2[j]);\n",
    "                    Double_t dr = TMath::Sqrt(deta * deta + dphi * dphi);\n",
    "                    if (dr < th_dr) bigger_deltar = false;\n",
    "                }\n",
    "                mask.push_back(bigger_deltar);\n",
    "            }\n",
    "            return mask;\n",
    "        }\n",
    "    \"\"\")\n",
    "    return root\n",
    "ROOT = add_to_root(ROOT)"
   ]
  },
  {
   "cell_type": "code",
   "execution_count": 4,
   "metadata": {},
   "outputs": [],
   "source": [
    "df = df.Define(\"lead_sublead_goodtau_pt\",\n",
    "    \"lead_sublead(\"\n",
    "        \"Tau_pt[abs(Tau_eta) <= 2.1], \"\n",
    "        \"Tau_eta[abs(Tau_eta) <= 2.1], \"\n",
    "        \"Tau_phi[abs(Tau_eta) <= 2.1], \"\n",
    "        \"Tau_mass[abs(Tau_eta) <= 2.1]\"\n",
    "    \")[0]\").Define(\"lead_sublead_goodtau_eta\", \n",
    "    \"lead_sublead(\"\n",
    "        \"Tau_pt[abs(Tau_eta) <= 2.1], \"\n",
    "        \"Tau_eta[abs(Tau_eta) <= 2.1], \"\n",
    "        \"Tau_phi[abs(Tau_eta) <= 2.1], \"\n",
    "        \"Tau_mass[abs(Tau_eta) <= 2.1]\"\n",
    "    \")[1]\").Define(\"lead_sublead_goodtau_phi\", \n",
    "    \"lead_sublead(\"\n",
    "        \"Tau_pt[abs(Tau_eta) <= 2.1], \"\n",
    "        \"Tau_eta[abs(Tau_eta) <= 2.1], \"\n",
    "        \"Tau_phi[abs(Tau_eta) <= 2.1], \"\n",
    "        \"Tau_mass[abs(Tau_eta) <= 2.1]\"\n",
    "    \")[2]\").Define(\"lead_sublead_goodtau_mass\", \n",
    "    \"lead_sublead(\"\n",
    "        \"Tau_pt[abs(Tau_eta) <= 2.1], \"\n",
    "        \"Tau_eta[abs(Tau_eta) <= 2.1], \"\n",
    "        \"Tau_phi[abs(Tau_eta) <= 2.1], \"\n",
    "        \"Tau_mass[abs(Tau_eta) <= 2.1]\"\n",
    "    \")[3]\")"
   ]
  },
  {
   "cell_type": "code",
   "execution_count": 5,
   "metadata": {},
   "outputs": [],
   "source": [
    "df = df.Define(\"lead_sublead_goodl1tau_pt\",\n",
    "    \"lead_sublead(\"\n",
    "        \"L1Obj_pt[L1Obj_type == 1 && L1Obj_iso == 1 && abs(L1Obj_eta) <= 2.1], \"\n",
    "        \"L1Obj_eta[L1Obj_type == 1 && L1Obj_iso == 1 && abs(L1Obj_eta) <= 2.1], \"\n",
    "        \"L1Obj_phi[L1Obj_type == 1 && L1Obj_iso == 1 && abs(L1Obj_eta) <= 2.1], \"\n",
    "        \"L1Obj_pt[L1Obj_type == 1 && L1Obj_iso == 1 && abs(L1Obj_eta) <= 2.1]\"\n",
    "    \")[0]\").Define(\"lead_sublead_goodl1tau_eta\", \n",
    "    \"lead_sublead(\"\n",
    "        \"L1Obj_pt[L1Obj_type == 1 && L1Obj_iso == 1 && abs(L1Obj_eta) <= 2.1], \"\n",
    "        \"L1Obj_eta[L1Obj_type == 1 && L1Obj_iso == 1 && abs(L1Obj_eta) <= 2.1], \"\n",
    "        \"L1Obj_phi[L1Obj_type == 1 && L1Obj_iso == 1 && abs(L1Obj_eta) <= 2.1], \"\n",
    "        \"L1Obj_pt[L1Obj_type == 1 && L1Obj_iso == 1 && abs(L1Obj_eta) <= 2.1]\"\n",
    "    \")[1]\").Define(\"lead_sublead_goodl1tau_phi\", \n",
    "    \"lead_sublead(\"\n",
    "        \"L1Obj_pt[L1Obj_type == 1 && L1Obj_iso == 1 && abs(L1Obj_eta) <= 4.7], \"\n",
    "        \"L1Obj_eta[L1Obj_type == 1 && L1Obj_iso == 1 && abs(L1Obj_eta) <= 4.7], \"\n",
    "        \"L1Obj_phi[L1Obj_type == 1 && L1Obj_iso == 1 && abs(L1Obj_eta) <= 4.7], \"\n",
    "        \"L1Obj_pt[L1Obj_type == 1 && L1Obj_iso == 1 && abs(L1Obj_eta) <= 4.7]\"\n",
    "    \")[2]\")"
   ]
  },
  {
   "cell_type": "code",
   "execution_count": 6,
   "metadata": {},
   "outputs": [],
   "source": [
    "df = df.Define(\"lead_sublead_goodl1jet_pt\",\n",
    "    \"lead_sublead(\"\n",
    "        \"L1Obj_pt[\"\n",
    "            \"L1Obj_type == 0 \"\n",
    "            \"&& maskDeltaR(\"\n",
    "                \"L1Obj_eta, \"\n",
    "                \"L1Obj_phi, \"\n",
    "                \"lead_sublead_goodl1tau_eta, \"\n",
    "                \"lead_sublead_goodl1tau_phi, \"\n",
    "                \"0.5)\"\n",
    "        \"],\"\n",
    "        \"L1Obj_eta[\"\n",
    "            \"L1Obj_type == 0 \"\n",
    "            \"&& maskDeltaR(\"\n",
    "                \"L1Obj_eta, \"\n",
    "                \"L1Obj_phi, \"\n",
    "                \"lead_sublead_goodl1tau_eta, \"\n",
    "                \"lead_sublead_goodl1tau_phi, \"\n",
    "                \"0.5)\"\n",
    "        \"],\"\n",
    "        \"L1Obj_phi[\"\n",
    "            \"L1Obj_type == 0 \"\n",
    "            \"&& maskDeltaR(\"\n",
    "                \"L1Obj_eta, \"\n",
    "                \"L1Obj_phi, \"\n",
    "                \"lead_sublead_goodl1tau_eta, \"\n",
    "                \"lead_sublead_goodl1tau_phi, \"\n",
    "                \"0.5)\"\n",
    "        \"],\"\n",
    "        \"L1Obj_pt[\"\n",
    "            \"L1Obj_type == 0 \"\n",
    "            \"&& maskDeltaR(\"\n",
    "                \"L1Obj_eta, \"\n",
    "                \"L1Obj_phi, \"\n",
    "                \"lead_sublead_goodl1tau_eta, \"\n",
    "                \"lead_sublead_goodl1tau_phi, \"\n",
    "                \"0.5)\"\n",
    "        \"]\"\n",
    "    \")[0]\")\n"
   ]
  },
  {
   "cell_type": "code",
   "execution_count": 7,
   "metadata": {},
   "outputs": [],
   "source": [
    "df = df.Define(\"lead_sublead_goodjet_pt\",\n",
    "    \"lead_sublead(\"\n",
    "        \"Jet_pt[\"\n",
    "            \"abs(Jet_eta) <= 4.7 && Jet_jetId >= 2 \"\n",
    "            \"&& ((Jet_puId >= 4 && Jet_pt <= 50) || (Jet_pt > 50))\"\n",
    "            \"&& maskDeltaR(\"\n",
    "                \"Jet_eta, \"\n",
    "                \"Jet_phi, \"\n",
    "                \"lead_sublead_goodtau_eta, \"\n",
    "                \"lead_sublead_goodtau_phi, \"\n",
    "                \"0.5)\"\n",
    "         \"],\"\n",
    "         \"Jet_eta[\"\n",
    "            \"abs(Jet_eta) <= 4.7 && Jet_jetId >= 2 \"\n",
    "            \"&& ((Jet_puId >= 4 && Jet_pt <= 50) || (Jet_pt > 50))\"\n",
    "            \"&& maskDeltaR(\"\n",
    "                \"Jet_eta, \"\n",
    "                \"Jet_phi, \"\n",
    "                \"lead_sublead_goodtau_eta, \"\n",
    "                \"lead_sublead_goodtau_phi, \"\n",
    "                \"0.5)\"\n",
    "         \"],\"\n",
    "         \"Jet_phi[\"\n",
    "            \"abs(Jet_eta) <= 4.7 && Jet_jetId >= 2 \"\n",
    "            \"&& ((Jet_puId >= 4 && Jet_pt <= 50) || (Jet_pt > 50))\"\n",
    "            \"&& maskDeltaR(\"\n",
    "                \"Jet_eta, \"\n",
    "                \"Jet_phi, \"\n",
    "                \"lead_sublead_goodtau_eta, \"\n",
    "                \"lead_sublead_goodtau_phi, \"\n",
    "                \"0.5)\"\n",
    "         \"],\"\n",
    "         \"Jet_mass[\"\n",
    "            \"abs(Jet_eta) <= 4.7 && Jet_jetId >= 2 \"\n",
    "            \"&& ((Jet_puId >= 4 && Jet_pt <= 50) || (Jet_pt > 50))\"\n",
    "            \"&& maskDeltaR(\"\n",
    "                \"Jet_eta, \"\n",
    "                \"Jet_phi, \"\n",
    "                \"lead_sublead_goodtau_eta, \"\n",
    "                \"lead_sublead_goodtau_phi, \"\n",
    "                \"0.5)\"\n",
    "         \"])[0]\")"
   ]
  },
  {
   "cell_type": "code",
   "execution_count": 8,
   "metadata": {},
   "outputs": [],
   "source": [
    "hmodel = (\"histo\", \"\", 50, 0, 200)\n",
    "subhisto = df.Define(\"sublead_pt\", \"lead_sublead_goodjet_pt[1]\").Histo1D(hmodel, \"sublead_pt\")"
   ]
  },
  {
   "cell_type": "code",
   "execution_count": 9,
   "metadata": {},
   "outputs": [
    {
     "data": {
      "image/png": "[encoded data removed]",
      "text/plain": [
       "<IPython.core.display.Image object>"
      ]
     },
     "metadata": {},
     "output_type": "display_data"
    }
   ],
   "source": [
    "c = ROOT.TCanvas(\"\", \"\", 800, 800)\n",
    "h = subhisto.Clone()\n",
    "h.Draw()\n",
    "c.Draw()"
   ]
  },
  {
   "cell_type": "markdown",
   "metadata": {},
   "source": [
    "### Filtering the number of jets in the category"
   ]
  },
  {
   "cell_type": "code",
   "execution_count": 10,
   "metadata": {},
   "outputs": [],
   "source": [
    "new_df = df.Filter(\n",
    "    # ask for a minimum number of jets (depending on the category)\n",
    "    # with pt > 20 (+ sth depending on the dataset)\n",
    "    \"Jet_pt[\"\n",
    "        \"Jet_pt >= (20 + {0}) && abs(Jet_eta) <= 4.7 && Jet_jetId >= 2 \"\n",
    "        \"&& ((Jet_puId >= 4 && Jet_pt <= 50) || (Jet_pt > 50))\"\n",
    "        \"&& maskDeltaR(\"\n",
    "            \"Jet_eta, \"\n",
    "            \"Jet_phi, \"\n",
    "            \"lead_sublead_goodtau_eta, \"\n",
    "            \"lead_sublead_goodtau_phi, \"\n",
    "            \"0.5)\"\n",
    "        \"].size() >= {1} \"\n",
    "    # ask for a maximum number of jets (depending on the category)\n",
    "    # with pt > 20 (+ sth depending on the dataset)\n",
    "    \"&& Jet_pt[\"\n",
    "        \"Jet_pt >= (20 + {0}) && abs(Jet_eta) <= 4.7 && Jet_jetId >= 2 \"\n",
    "        \"&& ((Jet_puId >= 4 && Jet_pt <= 50) || (Jet_pt > 50))\"\n",
    "        \"&& maskDeltaR(\"\n",
    "            \"Jet_eta, \"\n",
    "            \"Jet_phi, \"\n",
    "            \"lead_sublead_goodtau_eta, \"\n",
    "            \"lead_sublead_goodtau_phi, \"\n",
    "            \"0.5)\"\n",
    "        \"].size() <= {2}\".format(\n",
    "            ADD_TO_JETS,\n",
    "            MIN_JETS,\n",
    "            MAX_JETS,\n",
    "        )\n",
    ")"
   ]
  },
  {
   "cell_type": "markdown",
   "metadata": {},
   "source": [
    "### Trigger requirements on the L1 Taus and Jets"
   ]
  },
  {
   "cell_type": "code",
   "execution_count": 11,
   "metadata": {},
   "outputs": [],
   "source": [
    "name = \"DoubleIsoTau32er2p1\".format(xx)\n",
    "new_df = new_df.Define(name, \n",
    "    \"L1Obj_pt[\"\n",
    "        \"L1Obj_type == 1 \"\n",
    "        \"&& abs(L1Obj_eta) <= 2.1 \"\n",
    "        \"&& L1Obj_iso == 1 \"\n",
    "        \"&& L1Obj_pt >= 32\"\n",
    "    \"].size() >= 2\"\n",
    ")\n",
    "name = \"DoubleIsoTau{}er2p1\".format(xx)\n",
    "new_df = new_df.Define(name, \n",
    "    \"L1Obj_pt[\"\n",
    "        \"L1Obj_type == 1 \"\n",
    "        \"&& abs(L1Obj_eta) <= 2.1 \"\n",
    "        \"&& L1Obj_iso == 1 \"\n",
    "        \"&& L1Obj_pt >= {}\"\n",
    "    \"].size() >= 2\".format(xx)\n",
    ")\n",
    "name = \"DoubleIsoTau{}er2p1Jet{}dR0p5\".format(yy, zz)\n",
    "new_df = new_df.Define(name,\n",
    "    \"lead_sublead_goodl1tau_pt[0] >= {0} \"\n",
    "    \"&& lead_sublead_goodl1tau_pt[1] >= {0}\"\n",
    "    \"&& lead_sublead_goodl1jet_pt[0] >= {1}\".format(yy, zz))\n",
    "name = \"DoubleIsoTau{}er2p1Jet{}dR0p5Jet{}dR0p5\".format(yy, zz1, zz2)\n",
    "new_df = new_df.Define(name,\n",
    "    \"lead_sublead_goodl1tau_pt[0] >= {0} \"\n",
    "    \"&& lead_sublead_goodl1tau_pt[1] >= {0}\"\n",
    "    \"&& lead_sublead_goodl1jet_pt[0] >= {1}\"\n",
    "    \"&& lead_sublead_goodl1jet_pt[1] >= {2}\".format(yy, zz1, zz2))"
   ]
  },
  {
   "cell_type": "markdown",
   "metadata": {},
   "source": [
    "### Trigger requirements on the Reco Taus and Jets"
   ]
  },
  {
   "cell_type": "code",
   "execution_count": 12,
   "metadata": {},
   "outputs": [],
   "source": [
    "name = \"RecoDoubleIsoTau{}er2p1\".format(xx)\n",
    "new_df = new_df.Define(name, \n",
    "    \"lead_sublead_goodtau_pt[0] >= ({0} + {1}) \"\n",
    "    \"&& lead_sublead_goodtau_pt[1] >= ({0} + {2})\".format(\n",
    "        xx, \n",
    "        ADD_TO_LEADING_TAU,\n",
    "        ADD_TO_SUBLEADING_TAU,\n",
    "    )\n",
    ")\n",
    "name = \"RecoDoubleIsoTau{}er2p1\".format(32)\n",
    "new_df = new_df.Define(name, \n",
    "    \"lead_sublead_goodtau_pt[0] >= ({0} + {1}) \"\n",
    "    \"&& lead_sublead_goodtau_pt[1] >= ({0} + {2})\".format(\n",
    "        32, \n",
    "        ADD_TO_LEADING_TAU,\n",
    "        ADD_TO_SUBLEADING_TAU,\n",
    "    )\n",
    ")\n",
    "name = \"RecoDoubleIsoTau{}er2p1Jet{}dR0p5\".format(yy, zz)\n",
    "new_df = new_df.Define(name,\n",
    "    # ask that the two taus have pt greater than yy (+ sth depending on the dataset)\n",
    "    \"lead_sublead_goodtau_pt[0] >= ({0} + {1}) \"\n",
    "    \"&& lead_sublead_goodtau_pt[1] >= ({0} + {2})\"\n",
    "    \"&& lead_sublead_goodjet_pt[0] >= ({3} + {4})\".format(\n",
    "            yy, \n",
    "            ADD_TO_LEADING_TAU,\n",
    "            ADD_TO_SUBLEADING_TAU,\n",
    "            zz,\n",
    "            ADD_TO_TRIGGER_JETS\n",
    "        )\n",
    ")\n",
    "name = \"RecoDoubleIsoTau{}er2p1Jet{}dR0p5Jet{}dR0p5\".format(yy, zz1, zz2)\n",
    "new_df = new_df.Define(name,\n",
    "    # ask that the two taus have pt greater than yy (+ sth depending on the dataset)\n",
    "    \"lead_sublead_goodtau_pt[0] >= ({0} + {1}) \"\n",
    "    \"&& lead_sublead_goodtau_pt[1] >= ({0} + {2})\"\n",
    "    \"&& lead_sublead_goodjet_pt[0] >= ({3} + {5})\"\n",
    "    \"&& lead_sublead_goodjet_pt[0] >= ({4} + {5})\".format(\n",
    "            yy, \n",
    "            ADD_TO_LEADING_TAU,\n",
    "            ADD_TO_SUBLEADING_TAU,\n",
    "            zz1,\n",
    "            zz2,\n",
    "            ADD_TO_TRIGGER_JETS\n",
    "        )\n",
    ")"
   ]
  },
  {
   "cell_type": "code",
   "execution_count": 13,
   "metadata": {},
   "outputs": [],
   "source": [
    "hmodel = (\"histo\", \"\", 2, 0, 2)\n",
    "histo32 = new_df.Define(\"pass\", \"DoubleIsoTau32er2p1\").Histo1D(hmodel, \"pass\")\n",
    "histoxx = new_df.Define(\"pass\", \"DoubleIsoTau34er2p1\").Histo1D(hmodel, \"pass\")\n",
    "histoReco32 = new_df.Define(\"pass\", \"RecoDoubleIsoTau32er2p1\").Histo1D(hmodel, \"pass\")\n",
    "histoRecoxx = new_df.Define(\"pass\", \"RecoDoubleIsoTau{}er2p1\".format(xx)).Histo1D(hmodel, \"pass\")\n",
    "histoAND32 = new_df.Define(\"pass\", \"DoubleIsoTau32er2p1 && RecoDoubleIsoTau32er2p1\").Histo1D(hmodel, \"pass\")\n",
    "histoANDxx = new_df.Define(\"pass\", \"DoubleIsoTau{0}er2p1 && RecoDoubleIsoTau{0}er2p1\".format(xx)).Histo1D(hmodel, \"pass\")\n",
    "\n",
    "histoyyzz = new_df.Define(\"pass\", \"DoubleIsoTau{}er2p1Jet{}dR0p5\".format(yy, zz)).Histo1D(hmodel, \"pass\")\n",
    "histoRecoyyzz = new_df.Define(\"pass\", \"RecoDoubleIsoTau{}er2p1Jet{}dR0p5\".format(yy, zz)).Histo1D(hmodel, \"pass\")\n",
    "histoANDyyzz = new_df.Define(\"pass\", \"DoubleIsoTau{0}er2p1Jet{1}dR0p5 && RecoDoubleIsoTau{0}er2p1Jet{1}dR0p5\".format(yy, zz)).Histo1D(hmodel, \"pass\")\n",
    "\n",
    "histoyyzz1zz2 = new_df.Define(\"pass\", \"DoubleIsoTau{}er2p1Jet{}dR0p5Jet{}dR0p5\".format(yy, zz1, zz2)).Histo1D(hmodel, \"pass\")\n",
    "histoRecoyyzz1zz2 = new_df.Define(\"pass\", \"RecoDoubleIsoTau{}er2p1Jet{}dR0p5Jet{}dR0p5\".format(yy, zz1, zz2)).Histo1D(hmodel, \"pass\")\n",
    "histoANDyyzz1zz2 = new_df.Define(\"pass\", \"DoubleIsoTau{0}er2p1Jet{1}dR0p5Jet{2}dR0p5 && RecoDoubleIsoTau{0}er2p1Jet{1}dR0p5Jet{2}dR0p5\".format(yy, zz1, zz2)).Histo1D(hmodel, \"pass\")\n",
    "\n",
    "\n",
    "histoORxxyyzz = new_df.Define(\"pass\",\n",
    "                              \"(DoubleIsoTau{0}er2p1 && RecoDoubleIsoTau{0}er2p1)\"\n",
    "                              \"|| (DoubleIsoTau{1}er2p1Jet{2}dR0p5 && RecoDoubleIsoTau{1}er2p1Jet{2}dR0p5)\".format(xx, yy, zz)).Histo1D(hmodel, \"pass\")\n",
    "histoORxxyyzz1zz2 = new_df.Define(\"pass\",\n",
    "                              \"(DoubleIsoTau{0}er2p1 && RecoDoubleIsoTau{0}er2p1)\"\n",
    "                              \"|| (DoubleIsoTau{1}er2p1Jet{2}dR0p5Jet{3}dR0p5 && RecoDoubleIsoTau{1}er2p1Jet{2}dR0p5Jet{3}dR0p5)\".format(xx, yy, zz1, zz2)).Histo1D(hmodel, \"pass\")"
   ]
  },
  {
   "cell_type": "markdown",
   "metadata": {},
   "source": [
    "## Using loops"
   ]
  },
  {
   "cell_type": "markdown",
   "metadata": {},
   "source": [
    "### Functions needed to compute deltaR(tau, jet)"
   ]
  },
  {
   "cell_type": "code",
   "execution_count": 14,
   "metadata": {},
   "outputs": [],
   "source": [
    "def Phi_mpi_pi(x):\n",
    "    PI = 3.14159\n",
    "    while x >= PI: x -= 2 * PI;\n",
    "    while x < -PI: x += 2 * PI;\n",
    "    return x;\n",
    "def get_delta_r(eta1, phi1, eta2, phi2):\n",
    "    import math\n",
    "    deta = eta1 - eta2\n",
    "    dphi = Phi_mpi_pi(phi1 - phi2)\n",
    "    return math.sqrt(deta * deta + dphi * dphi)"
   ]
  },
  {
   "cell_type": "markdown",
   "metadata": {},
   "source": [
    "### Actual loop"
   ]
  },
  {
   "cell_type": "code",
   "execution_count": 15,
   "metadata": {
    "scrolled": true
   },
   "outputs": [],
   "source": [
    "if DO_LOOPS:\n",
    "\n",
    "    total_events = 0\n",
    "\n",
    "    l1_events_xx = 0\n",
    "    reco_events_xx = 0\n",
    "    and_events_xx = 0\n",
    "\n",
    "    l1_events_yy_zz = 0\n",
    "    reco_events_yy_zz = 0\n",
    "    and_events_yy_zz = 0\n",
    "\n",
    "    or_events_xx_yy_zz = 0\n",
    "\n",
    "    # for event in f.Events:  # to run on a TFile\n",
    "    for event in f:  # to run on a TChain\n",
    "\n",
    "        total_events += 1\n",
    "\n",
    "        ### DoubleIsoTauXXer2p1\n",
    "\n",
    "        # start storing the 4-vectors for the leading and subleading taus\n",
    "        leading_l1_tau = [-1., -1., -1., -1.]\n",
    "        subleading_l1_tau = [-1., -1., -1., -1.]\n",
    "        for L1Obj in zip(event.L1Obj_pt, event.L1Obj_type, event.L1Obj_eta, event.L1Obj_phi, event.L1Obj_iso):\n",
    "            if L1Obj[1] != 1: continue # skip if it's not a tau\n",
    "            if abs(L1Obj[2]) > 2.1: continue # skip if the L1 tau doesn't pass the eta req\n",
    "            if L1Obj[4] != 1: continue # skip if the L1 tau is not isolated\n",
    "\n",
    "            if L1Obj[0] > leading_l1_tau[0]:\n",
    "                subleading_l1_tau = [leading_l1_tau[0], leading_l1_tau[1], leading_l1_tau[2], leading_l1_tau[3]]\n",
    "                leading_l1_tau = [L1Obj[0], L1Obj[2], L1Obj[3], L1Obj[0]]\n",
    "            elif L1Obj[0] > subleading_l1_tau[0]:\n",
    "                subleading_l1_tau = [L1Obj[0], L1Obj[2], L1Obj[3], L1Obj[0]]\n",
    "\n",
    "        leading_tau = [-1., -1., -1., -1.]\n",
    "        subleading_tau = [-1., -1., -1., -1.]\n",
    "        for tau in zip(event.Tau_pt, event.Tau_eta, event.Tau_phi, event.Tau_mass):\n",
    "            if abs(tau[1]) > 2.1: continue\n",
    "            if tau[0] > leading_tau[0]:\n",
    "                subleading_tau = [leading_tau[0], leading_tau[1], leading_tau[2], leading_tau[3]]\n",
    "                leading_tau = [tau[0], tau[1], tau[2], tau[3]]\n",
    "            elif tau[0] > subleading_tau[0]:\n",
    "                subleading_tau = [tau[0], tau[1], tau[2], tau[3]]\n",
    "\n",
    "        # with the leading and subleading taus we can already say if the event passes\n",
    "        # the trigger reqs for L1, Reco and L1 AND Reco\n",
    "\n",
    "        l1_xx = (leading_l1_tau[0] >= xx and subleading_l1_tau[0] >= xx)\n",
    "        reco_xx = (leading_tau[0] >= xx + ADD_TO_LEADING_TAU and subleading_tau[0] >= xx + ADD_TO_SUBLEADING_TAU)\n",
    "\n",
    "        ### DoubleIsoTauYYer2p1JetZZdR0p5\n",
    "\n",
    "        # loop over the l1 jets\n",
    "        triggerl1jets = 0\n",
    "        jet_pts = []\n",
    "        for L1Obj in zip(event.L1Obj_pt, event.L1Obj_type, event.L1Obj_eta, event.L1Obj_phi):\n",
    "            if L1Obj[1] != 0: continue # skip if it's not a jet\n",
    "            # require no matching between the jet and the selected taus\n",
    "            if get_delta_r(L1Obj[2], L1Obj[3], leading_l1_tau[1], leading_l1_tau[2]) < 0.5: continue\n",
    "            if get_delta_r(L1Obj[2], L1Obj[3], subleading_l1_tau[1], subleading_l1_tau[2]) < 0.5: continue\n",
    "\n",
    "            if L1Obj[0] < zz: continue # skip if its pt is smaller than zz\n",
    "\n",
    "            triggerl1jets += 1\n",
    "\n",
    "        # loop over the reco jets\n",
    "        eventjets = 0\n",
    "        triggerjets = 0\n",
    "        for jet in zip(event.Jet_pt, event.Jet_eta, event.Jet_phi, event.Jet_mass, event.Jet_puId, event.Jet_jetId):\n",
    "            if abs(jet[1]) > 4.7: continue # eta requirement\n",
    "            if jet[5] < 2: continue # id requirement\n",
    "            if jet[0] <= 50 and jet[4] < 4: continue # PUiD requirement\n",
    "            # require no matching between the jet and the selected taus\n",
    "            if get_delta_r(jet[1], jet[2], leading_tau[1], leading_tau[2]) < 0.5: continue\n",
    "            if get_delta_r(jet[1], jet[2], subleading_tau[1], subleading_tau[2]) < 0.5: continue\n",
    "            if jet[0] >= zz + ADD_TO_TRIGGER_JETS:\n",
    "                triggerjets += 1\n",
    "            # count also the total jets in the event in order to categorize it\n",
    "            if jet[0] >= 20 + ADD_TO_JETS:\n",
    "                eventjets += 1\n",
    "\n",
    "        l1_yy_zz = ((triggerl1jets >= 1) and (leading_l1_tau[0] >= yy) and (subleading_l1_tau[0] >= yy))\n",
    "        reco_yy_zz = ((triggerjets >= 1)\n",
    "            and (leading_tau[0] >= yy + ADD_TO_LEADING_TAU) and (subleading_tau[0] >= yy + ADD_TO_SUBLEADING_TAU))\n",
    "\n",
    "        # categorization\n",
    "        if eventjets < MIN_JETS or eventjets > MAX_JETS: continue # looking only at the 2 jet category\n",
    "\n",
    "        # triggers that were passed\n",
    "        l1_events_xx += l1_xx\n",
    "        reco_events_xx += reco_xx\n",
    "        and_events_xx += (l1_xx and reco_xx)\n",
    "\n",
    "        l1_events_yy_zz += l1_yy_zz    \n",
    "        reco_events_yy_zz += reco_yy_zz\n",
    "        and_events_yy_zz += (l1_yy_zz and reco_yy_zz)\n",
    "\n",
    "        or_events_xx_yy_zz += ((l1_xx and reco_xx) or (l1_yy_zz and reco_yy_zz))"
   ]
  },
  {
   "cell_type": "markdown",
   "metadata": {},
   "source": [
    "## Summary"
   ]
  },
  {
   "cell_type": "code",
   "execution_count": 16,
   "metadata": {},
   "outputs": [
    {
     "name": "stdout",
     "output_type": "stream",
     "text": [
      "total_events 80000\n",
      "\n",
      "**** RDataFrame ****\n",
      "DoubleIsoTau34, L1 2379.0\n",
      "DoubleIsoTau34, Reco 448.0\n",
      "DoubleIsoTau34, AND 330.0\n",
      "\n",
      "DoubleIsoTau26Jet64, L1 716.0\n",
      "DoubleIsoTau26Jet64, Reco 383.0\n",
      "DoubleIsoTau26Jet64, AND 218.0\n",
      "\n",
      "DoubleIsoTau34 OR DoubleIsoTau26Jet64 419.0\n",
      "\n",
      "DoubleIsoTau26Jet64Jet64, L1 27.0\n",
      "DoubleIsoTau26Jet64Jet64, Reco 383.0\n",
      "DoubleIsoTau26Jet64Jet64, AND 9.0\n",
      "\n",
      "DoubleIsoTau34 OR DoubleIsoTau26Jet64Jet64 332.0\n",
      "\n",
      "DoubleIsoTau32\n",
      "DoubleIsoTau32, L1 2891.0\n",
      "DoubleIsoTau32, Reco 591.0\n",
      "DoubleIsoTau32, AND 432.0\n",
      "\n",
      "(DoubleIsoTau34 OR DoubleIsoTau26Jet64) / DoubleIsoTau32 0.969907407407\n",
      "\n",
      "(DoubleIsoTau34 OR DoubleIsoTau26Jet64Jet64) / DoubleIsoTau32 0.768518518519\n",
      "\n",
      "**** LOOPS ****\n",
      "l1_events_xx 2379\n",
      "reco_events_xx 448\n",
      "and_events_xx 330\n",
      "\n",
      "l1_events_yy_zz 717\n",
      "reco_events_yy_zz 383\n",
      "and_events_yy_zz 218\n",
      "\n",
      "or_events_xx_yy_zz 419\n"
     ]
    }
   ],
   "source": [
    "if DO_LOOPS: print \"total_events\", total_events\n",
    "print\n",
    "print \"**** RDataFrame ****\"\n",
    "print \"DoubleIsoTau{}, L1 {}\".format(xx, histoxx.Clone().GetBinContent(2))\n",
    "print \"DoubleIsoTau{}, Reco {}\".format(xx, histoRecoxx.Clone().GetBinContent(2))\n",
    "print \"DoubleIsoTau{}, AND {}\".format(xx, histoANDxx.Clone().GetBinContent(2))\n",
    "print\n",
    "print \"DoubleIsoTau{}Jet{}, L1 {}\".format(yy, zz, histoyyzz.Clone().GetBinContent(2))\n",
    "print \"DoubleIsoTau{}Jet{}, Reco {}\".format(yy, zz, histoRecoyyzz.Clone().GetBinContent(2))\n",
    "print \"DoubleIsoTau{}Jet{}, AND {}\".format(yy, zz, histoANDyyzz.Clone().GetBinContent(2))\n",
    "print\n",
    "print \"DoubleIsoTau{} OR DoubleIsoTau{}Jet{} {}\".format(xx, yy, zz, histoORxxyyzz.Clone().GetBinContent(2))\n",
    "print\n",
    "print \"DoubleIsoTau{}Jet{}Jet{}, L1 {}\".format(yy, zz1, zz2, histoyyzz1zz2.Clone().GetBinContent(2))\n",
    "print \"DoubleIsoTau{}Jet{}Jet{}, Reco {}\".format(yy, zz1, zz2, histoRecoyyzz1zz2.Clone().GetBinContent(2))\n",
    "print \"DoubleIsoTau{}Jet{}Jet{}, AND {}\".format(yy, zz1, zz2, histoANDyyzz1zz2.Clone().GetBinContent(2))\n",
    "print\n",
    "print \"DoubleIsoTau{} OR DoubleIsoTau{}Jet{}Jet{} {}\".format(xx, yy, zz1, zz2, histoORxxyyzz1zz2.Clone().GetBinContent(2))\n",
    "print\n",
    "print \"DoubleIsoTau32\"\n",
    "print \"DoubleIsoTau32, L1\", histo32.Clone().GetBinContent(2)\n",
    "print \"DoubleIsoTau32, Reco\", histoReco32.Clone().GetBinContent(2)\n",
    "print \"DoubleIsoTau32, AND\", histoAND32.Clone().GetBinContent(2)\n",
    "print\n",
    "print \"(DoubleIsoTau{} OR DoubleIsoTau{}Jet{}) / DoubleIsoTau32 {}\".format(xx, yy, zz, histoORxxyyzz.Clone().GetBinContent(2) / histoAND32.Clone().GetBinContent(2))\n",
    "print\n",
    "print \"(DoubleIsoTau{} OR DoubleIsoTau{}Jet{}Jet{}) / DoubleIsoTau32 {}\".format(xx, yy, zz1, zz2, histoORxxyyzz1zz2.Clone().GetBinContent(2) / histoAND32.Clone().GetBinContent(2))\n",
    "print\n",
    "\n",
    "if DO_LOOPS:\n",
    "    print \"**** LOOPS ****\"\n",
    "    print \"l1_events_xx\", l1_events_xx\n",
    "    print \"reco_events_xx\", reco_events_xx\n",
    "    print \"and_events_xx\", and_events_xx\n",
    "    print\n",
    "    print \"l1_events_yy_zz\", l1_events_yy_zz\n",
    "    print \"reco_events_yy_zz\", reco_events_yy_zz\n",
    "    print \"and_events_yy_zz\", and_events_yy_zz\n",
    "    print\n",
    "    print \"or_events_xx_yy_zz\", or_events_xx_yy_zz\n"
   ]
  },
  {
   "cell_type": "markdown",
   "metadata": {},
   "source": [
    "# RATES"
   ]
  },
  {
   "cell_type": "code",
   "execution_count": 9,
   "metadata": {},
   "outputs": [
    {
     "name": "stdout",
     "output_type": "stream",
     "text": [
      "['/eos/cms/store/group/dpg_trigger/comm_trigger/L1Trigger/TEAshiftNtuples/ZeroBias2018D-week36-l1t-integration-v100p0-CMSSW-10_2_1/ZeroBias/crab_ZeroBias2018D-week36-l1t-integration-v100p0-CMSSW-10_2_1__322079_ZeroBias_Run2018D-v1/180908_184351/0000/L1Ntuple_1.root', '/eos/cms/store/group/dpg_trigger/comm_trigger/L1Trigger/TEAshiftNtuples/ZeroBias2018D-week36-l1t-integration-v100p0-CMSSW-10_2_1/ZeroBias/crab_ZeroBias2018D-week36-l1t-integration-v100p0-CMSSW-10_2_1__322079_ZeroBias_Run2018D-v1/180908_184351/0000/L1Ntuple_10.root', '/eos/cms/store/group/dpg_trigger/comm_trigger/L1Trigger/TEAshiftNtuples/ZeroBias2018D-week36-l1t-integration-v100p0-CMSSW-10_2_1/ZeroBias/crab_ZeroBias2018D-week36-l1t-integration-v100p0-CMSSW-10_2_1__322079_ZeroBias_Run2018D-v1/180908_184351/0000/L1Ntuple_11.root', '/eos/cms/store/group/dpg_trigger/comm_trigger/L1Trigger/TEAshiftNtuples/ZeroBias2018D-week36-l1t-integration-v100p0-CMSSW-10_2_1/ZeroBias/crab_ZeroBias2018D-week36-l1t-integration-v100p0-CMSSW-10_2_1__322079_ZeroBias_Run2018D-v1/180908_184351/0000/L1Ntuple_12.root', '/eos/cms/store/group/dpg_trigger/comm_trigger/L1Trigger/TEAshiftNtuples/ZeroBias2018D-week36-l1t-integration-v100p0-CMSSW-10_2_1/ZeroBias/crab_ZeroBias2018D-week36-l1t-integration-v100p0-CMSSW-10_2_1__322079_ZeroBias_Run2018D-v1/180908_184351/0000/L1Ntuple_13.root', '/eos/cms/store/group/dpg_trigger/comm_trigger/L1Trigger/TEAshiftNtuples/ZeroBias2018D-week36-l1t-integration-v100p0-CMSSW-10_2_1/ZeroBias/crab_ZeroBias2018D-week36-l1t-integration-v100p0-CMSSW-10_2_1__322079_ZeroBias_Run2018D-v1/180908_184351/0000/L1Ntuple_14.root', '/eos/cms/store/group/dpg_trigger/comm_trigger/L1Trigger/TEAshiftNtuples/ZeroBias2018D-week36-l1t-integration-v100p0-CMSSW-10_2_1/ZeroBias/crab_ZeroBias2018D-week36-l1t-integration-v100p0-CMSSW-10_2_1__322079_ZeroBias_Run2018D-v1/180908_184351/0000/L1Ntuple_15.root', '/eos/cms/store/group/dpg_trigger/comm_trigger/L1Trigger/TEAshiftNtuples/ZeroBias2018D-week36-l1t-integration-v100p0-CMSSW-10_2_1/ZeroBias/crab_ZeroBias2018D-week36-l1t-integration-v100p0-CMSSW-10_2_1__322079_ZeroBias_Run2018D-v1/180908_184351/0000/L1Ntuple_16.root', '/eos/cms/store/group/dpg_trigger/comm_trigger/L1Trigger/TEAshiftNtuples/ZeroBias2018D-week36-l1t-integration-v100p0-CMSSW-10_2_1/ZeroBias/crab_ZeroBias2018D-week36-l1t-integration-v100p0-CMSSW-10_2_1__322079_ZeroBias_Run2018D-v1/180908_184351/0000/L1Ntuple_17.root', '/eos/cms/store/group/dpg_trigger/comm_trigger/L1Trigger/TEAshiftNtuples/ZeroBias2018D-week36-l1t-integration-v100p0-CMSSW-10_2_1/ZeroBias/crab_ZeroBias2018D-week36-l1t-integration-v100p0-CMSSW-10_2_1__322079_ZeroBias_Run2018D-v1/180908_184351/0000/L1Ntuple_18.root', '/eos/cms/store/group/dpg_trigger/comm_trigger/L1Trigger/TEAshiftNtuples/ZeroBias2018D-week36-l1t-integration-v100p0-CMSSW-10_2_1/ZeroBias/crab_ZeroBias2018D-week36-l1t-integration-v100p0-CMSSW-10_2_1__322079_ZeroBias_Run2018D-v1/180908_184351/0000/L1Ntuple_19.root', '/eos/cms/store/group/dpg_trigger/comm_trigger/L1Trigger/TEAshiftNtuples/ZeroBias2018D-week36-l1t-integration-v100p0-CMSSW-10_2_1/ZeroBias/crab_ZeroBias2018D-week36-l1t-integration-v100p0-CMSSW-10_2_1__322079_ZeroBias_Run2018D-v1/180908_184351/0000/L1Ntuple_2.root', '/eos/cms/store/group/dpg_trigger/comm_trigger/L1Trigger/TEAshiftNtuples/ZeroBias2018D-week36-l1t-integration-v100p0-CMSSW-10_2_1/ZeroBias/crab_ZeroBias2018D-week36-l1t-integration-v100p0-CMSSW-10_2_1__322079_ZeroBias_Run2018D-v1/180908_184351/0000/L1Ntuple_20.root', '/eos/cms/store/group/dpg_trigger/comm_trigger/L1Trigger/TEAshiftNtuples/ZeroBias2018D-week36-l1t-integration-v100p0-CMSSW-10_2_1/ZeroBias/crab_ZeroBias2018D-week36-l1t-integration-v100p0-CMSSW-10_2_1__322079_ZeroBias_Run2018D-v1/180908_184351/0000/L1Ntuple_21.root', '/eos/cms/store/group/dpg_trigger/comm_trigger/L1Trigger/TEAshiftNtuples/ZeroBias2018D-week36-l1t-integration-v100p0-CMSSW-10_2_1/ZeroBias/crab_ZeroBias2018D-week36-l1t-integration-v100p0-CMSSW-10_2_1__322079_ZeroBias_Run2018D-v1/180908_184351/0000/L1Ntuple_22.root', '/eos/cms/store/group/dpg_trigger/comm_trigger/L1Trigger/TEAshiftNtuples/ZeroBias2018D-week36-l1t-integration-v100p0-CMSSW-10_2_1/ZeroBias/crab_ZeroBias2018D-week36-l1t-integration-v100p0-CMSSW-10_2_1__322079_ZeroBias_Run2018D-v1/180908_184351/0000/L1Ntuple_23.root', '/eos/cms/store/group/dpg_trigger/comm_trigger/L1Trigger/TEAshiftNtuples/ZeroBias2018D-week36-l1t-integration-v100p0-CMSSW-10_2_1/ZeroBias/crab_ZeroBias2018D-week36-l1t-integration-v100p0-CMSSW-10_2_1__322079_ZeroBias_Run2018D-v1/180908_184351/0000/L1Ntuple_24.root', '/eos/cms/store/group/dpg_trigger/comm_trigger/L1Trigger/TEAshiftNtuples/ZeroBias2018D-week36-l1t-integration-v100p0-CMSSW-10_2_1/ZeroBias/crab_ZeroBias2018D-week36-l1t-integration-v100p0-CMSSW-10_2_1__322079_ZeroBias_Run2018D-v1/180908_184351/0000/L1Ntuple_25.root', '/eos/cms/store/group/dpg_trigger/comm_trigger/L1Trigger/TEAshiftNtuples/ZeroBias2018D-week36-l1t-integration-v100p0-CMSSW-10_2_1/ZeroBias/crab_ZeroBias2018D-week36-l1t-integration-v100p0-CMSSW-10_2_1__322079_ZeroBias_Run2018D-v1/180908_184351/0000/L1Ntuple_26.root', '/eos/cms/store/group/dpg_trigger/comm_trigger/L1Trigger/TEAshiftNtuples/ZeroBias2018D-week36-l1t-integration-v100p0-CMSSW-10_2_1/ZeroBias/crab_ZeroBias2018D-week36-l1t-integration-v100p0-CMSSW-10_2_1__322079_ZeroBias_Run2018D-v1/180908_184351/0000/L1Ntuple_27.root', '/eos/cms/store/group/dpg_trigger/comm_trigger/L1Trigger/TEAshiftNtuples/ZeroBias2018D-week36-l1t-integration-v100p0-CMSSW-10_2_1/ZeroBias/crab_ZeroBias2018D-week36-l1t-integration-v100p0-CMSSW-10_2_1__322079_ZeroBias_Run2018D-v1/180908_184351/0000/L1Ntuple_28.root', '/eos/cms/store/group/dpg_trigger/comm_trigger/L1Trigger/TEAshiftNtuples/ZeroBias2018D-week36-l1t-integration-v100p0-CMSSW-10_2_1/ZeroBias/crab_ZeroBias2018D-week36-l1t-integration-v100p0-CMSSW-10_2_1__322079_ZeroBias_Run2018D-v1/180908_184351/0000/L1Ntuple_29.root', '/eos/cms/store/group/dpg_trigger/comm_trigger/L1Trigger/TEAshiftNtuples/ZeroBias2018D-week36-l1t-integration-v100p0-CMSSW-10_2_1/ZeroBias/crab_ZeroBias2018D-week36-l1t-integration-v100p0-CMSSW-10_2_1__322079_ZeroBias_Run2018D-v1/180908_184351/0000/L1Ntuple_3.root', '/eos/cms/store/group/dpg_trigger/comm_trigger/L1Trigger/TEAshiftNtuples/ZeroBias2018D-week36-l1t-integration-v100p0-CMSSW-10_2_1/ZeroBias/crab_ZeroBias2018D-week36-l1t-integration-v100p0-CMSSW-10_2_1__322079_ZeroBias_Run2018D-v1/180908_184351/0000/L1Ntuple_30.root', '/eos/cms/store/group/dpg_trigger/comm_trigger/L1Trigger/TEAshiftNtuples/ZeroBias2018D-week36-l1t-integration-v100p0-CMSSW-10_2_1/ZeroBias/crab_ZeroBias2018D-week36-l1t-integration-v100p0-CMSSW-10_2_1__322079_ZeroBias_Run2018D-v1/180908_184351/0000/L1Ntuple_31.root', '/eos/cms/store/group/dpg_trigger/comm_trigger/L1Trigger/TEAshiftNtuples/ZeroBias2018D-week36-l1t-integration-v100p0-CMSSW-10_2_1/ZeroBias/crab_ZeroBias2018D-week36-l1t-integration-v100p0-CMSSW-10_2_1__322079_ZeroBias_Run2018D-v1/180908_184351/0000/L1Ntuple_32.root', '/eos/cms/store/group/dpg_trigger/comm_trigger/L1Trigger/TEAshiftNtuples/ZeroBias2018D-week36-l1t-integration-v100p0-CMSSW-10_2_1/ZeroBias/crab_ZeroBias2018D-week36-l1t-integration-v100p0-CMSSW-10_2_1__322079_ZeroBias_Run2018D-v1/180908_184351/0000/L1Ntuple_33.root', '/eos/cms/store/group/dpg_trigger/comm_trigger/L1Trigger/TEAshiftNtuples/ZeroBias2018D-week36-l1t-integration-v100p0-CMSSW-10_2_1/ZeroBias/crab_ZeroBias2018D-week36-l1t-integration-v100p0-CMSSW-10_2_1__322079_ZeroBias_Run2018D-v1/180908_184351/0000/L1Ntuple_34.root', '/eos/cms/store/group/dpg_trigger/comm_trigger/L1Trigger/TEAshiftNtuples/ZeroBias2018D-week36-l1t-integration-v100p0-CMSSW-10_2_1/ZeroBias/crab_ZeroBias2018D-week36-l1t-integration-v100p0-CMSSW-10_2_1__322079_ZeroBias_Run2018D-v1/180908_184351/0000/L1Ntuple_35.root', '/eos/cms/store/group/dpg_trigger/comm_trigger/L1Trigger/TEAshiftNtuples/ZeroBias2018D-week36-l1t-integration-v100p0-CMSSW-10_2_1/ZeroBias/crab_ZeroBias2018D-week36-l1t-integration-v100p0-CMSSW-10_2_1__322079_ZeroBias_Run2018D-v1/180908_184351/0000/L1Ntuple_36.root', '/eos/cms/store/group/dpg_trigger/comm_trigger/L1Trigger/TEAshiftNtuples/ZeroBias2018D-week36-l1t-integration-v100p0-CMSSW-10_2_1/ZeroBias/crab_ZeroBias2018D-week36-l1t-integration-v100p0-CMSSW-10_2_1__322079_ZeroBias_Run2018D-v1/180908_184351/0000/L1Ntuple_37.root', '/eos/cms/store/group/dpg_trigger/comm_trigger/L1Trigger/TEAshiftNtuples/ZeroBias2018D-week36-l1t-integration-v100p0-CMSSW-10_2_1/ZeroBias/crab_ZeroBias2018D-week36-l1t-integration-v100p0-CMSSW-10_2_1__322079_ZeroBias_Run2018D-v1/180908_184351/0000/L1Ntuple_38.root', '/eos/cms/store/group/dpg_trigger/comm_trigger/L1Trigger/TEAshiftNtuples/ZeroBias2018D-week36-l1t-integration-v100p0-CMSSW-10_2_1/ZeroBias/crab_ZeroBias2018D-week36-l1t-integration-v100p0-CMSSW-10_2_1__322079_ZeroBias_Run2018D-v1/180908_184351/0000/L1Ntuple_39.root', '/eos/cms/store/group/dpg_trigger/comm_trigger/L1Trigger/TEAshiftNtuples/ZeroBias2018D-week36-l1t-integration-v100p0-CMSSW-10_2_1/ZeroBias/crab_ZeroBias2018D-week36-l1t-integration-v100p0-CMSSW-10_2_1__322079_ZeroBias_Run2018D-v1/180908_184351/0000/L1Ntuple_4.root', '/eos/cms/store/group/dpg_trigger/comm_trigger/L1Trigger/TEAshiftNtuples/ZeroBias2018D-week36-l1t-integration-v100p0-CMSSW-10_2_1/ZeroBias/crab_ZeroBias2018D-week36-l1t-integration-v100p0-CMSSW-10_2_1__322079_ZeroBias_Run2018D-v1/180908_184351/0000/L1Ntuple_40.root', '/eos/cms/store/group/dpg_trigger/comm_trigger/L1Trigger/TEAshiftNtuples/ZeroBias2018D-week36-l1t-integration-v100p0-CMSSW-10_2_1/ZeroBias/crab_ZeroBias2018D-week36-l1t-integration-v100p0-CMSSW-10_2_1__322079_ZeroBias_Run2018D-v1/180908_184351/0000/L1Ntuple_41.root', '/eos/cms/store/group/dpg_trigger/comm_trigger/L1Trigger/TEAshiftNtuples/ZeroBias2018D-week36-l1t-integration-v100p0-CMSSW-10_2_1/ZeroBias/crab_ZeroBias2018D-week36-l1t-integration-v100p0-CMSSW-10_2_1__322079_ZeroBias_Run2018D-v1/180908_184351/0000/L1Ntuple_42.root', '/eos/cms/store/group/dpg_trigger/comm_trigger/L1Trigger/TEAshiftNtuples/ZeroBias2018D-week36-l1t-integration-v100p0-CMSSW-10_2_1/ZeroBias/crab_ZeroBias2018D-week36-l1t-integration-v100p0-CMSSW-10_2_1__322079_ZeroBias_Run2018D-v1/180908_184351/0000/L1Ntuple_43.root', '/eos/cms/store/group/dpg_trigger/comm_trigger/L1Trigger/TEAshiftNtuples/ZeroBias2018D-week36-l1t-integration-v100p0-CMSSW-10_2_1/ZeroBias/crab_ZeroBias2018D-week36-l1t-integration-v100p0-CMSSW-10_2_1__322079_ZeroBias_Run2018D-v1/180908_184351/0000/L1Ntuple_44.root', '/eos/cms/store/group/dpg_trigger/comm_trigger/L1Trigger/TEAshiftNtuples/ZeroBias2018D-week36-l1t-integration-v100p0-CMSSW-10_2_1/ZeroBias/crab_ZeroBias2018D-week36-l1t-integration-v100p0-CMSSW-10_2_1__322079_ZeroBias_Run2018D-v1/180908_184351/0000/L1Ntuple_5.root', '/eos/cms/store/group/dpg_trigger/comm_trigger/L1Trigger/TEAshiftNtuples/ZeroBias2018D-week36-l1t-integration-v100p0-CMSSW-10_2_1/ZeroBias/crab_ZeroBias2018D-week36-l1t-integration-v100p0-CMSSW-10_2_1__322079_ZeroBias_Run2018D-v1/180908_184351/0000/L1Ntuple_6.root', '/eos/cms/store/group/dpg_trigger/comm_trigger/L1Trigger/TEAshiftNtuples/ZeroBias2018D-week36-l1t-integration-v100p0-CMSSW-10_2_1/ZeroBias/crab_ZeroBias2018D-week36-l1t-integration-v100p0-CMSSW-10_2_1__322079_ZeroBias_Run2018D-v1/180908_184351/0000/L1Ntuple_7.root', '/eos/cms/store/group/dpg_trigger/comm_trigger/L1Trigger/TEAshiftNtuples/ZeroBias2018D-week36-l1t-integration-v100p0-CMSSW-10_2_1/ZeroBias/crab_ZeroBias2018D-week36-l1t-integration-v100p0-CMSSW-10_2_1__322079_ZeroBias_Run2018D-v1/180908_184351/0000/L1Ntuple_8.root', '/eos/cms/store/group/dpg_trigger/comm_trigger/L1Trigger/TEAshiftNtuples/ZeroBias2018D-week36-l1t-integration-v100p0-CMSSW-10_2_1/ZeroBias/crab_ZeroBias2018D-week36-l1t-integration-v100p0-CMSSW-10_2_1__322079_ZeroBias_Run2018D-v1/180908_184351/0000/L1Ntuple_9.root', '/eos/cms/store/group/dpg_trigger/comm_trigger/L1Trigger/TEAshiftNtuples/ZeroBias2018D-week36-l1t-integration-v100p0-CMSSW-10_2_1/ZeroBias/crab_ZeroBias2018D-week36-l1t-integration-v100p0-CMSSW-10_2_1__322088_ZeroBias_Run2018D-v1/180908_184320/0000/L1Ntuple_1.root', '/eos/cms/store/group/dpg_trigger/comm_trigger/L1Trigger/TEAshiftNtuples/ZeroBias2018D-week36-l1t-integration-v100p0-CMSSW-10_2_1/ZeroBias/crab_ZeroBias2018D-week36-l1t-integration-v100p0-CMSSW-10_2_1__322088_ZeroBias_Run2018D-v1/180908_184320/0000/L1Ntuple_10.root', '/eos/cms/store/group/dpg_trigger/comm_trigger/L1Trigger/TEAshiftNtuples/ZeroBias2018D-week36-l1t-integration-v100p0-CMSSW-10_2_1/ZeroBias/crab_ZeroBias2018D-week36-l1t-integration-v100p0-CMSSW-10_2_1__322088_ZeroBias_Run2018D-v1/180908_184320/0000/L1Ntuple_11.root', '/eos/cms/store/group/dpg_trigger/comm_trigger/L1Trigger/TEAshiftNtuples/ZeroBias2018D-week36-l1t-integration-v100p0-CMSSW-10_2_1/ZeroBias/crab_ZeroBias2018D-week36-l1t-integration-v100p0-CMSSW-10_2_1__322088_ZeroBias_Run2018D-v1/180908_184320/0000/L1Ntuple_12.root', '/eos/cms/store/group/dpg_trigger/comm_trigger/L1Trigger/TEAshiftNtuples/ZeroBias2018D-week36-l1t-integration-v100p0-CMSSW-10_2_1/ZeroBias/crab_ZeroBias2018D-week36-l1t-integration-v100p0-CMSSW-10_2_1__322088_ZeroBias_Run2018D-v1/180908_184320/0000/L1Ntuple_13.root', '/eos/cms/store/group/dpg_trigger/comm_trigger/L1Trigger/TEAshiftNtuples/ZeroBias2018D-week36-l1t-integration-v100p0-CMSSW-10_2_1/ZeroBias/crab_ZeroBias2018D-week36-l1t-integration-v100p0-CMSSW-10_2_1__322088_ZeroBias_Run2018D-v1/180908_184320/0000/L1Ntuple_14.root', '/eos/cms/store/group/dpg_trigger/comm_trigger/L1Trigger/TEAshiftNtuples/ZeroBias2018D-week36-l1t-integration-v100p0-CMSSW-10_2_1/ZeroBias/crab_ZeroBias2018D-week36-l1t-integration-v100p0-CMSSW-10_2_1__322088_ZeroBias_Run2018D-v1/180908_184320/0000/L1Ntuple_15.root', '/eos/cms/store/group/dpg_trigger/comm_trigger/L1Trigger/TEAshiftNtuples/ZeroBias2018D-week36-l1t-integration-v100p0-CMSSW-10_2_1/ZeroBias/crab_ZeroBias2018D-week36-l1t-integration-v100p0-CMSSW-10_2_1__322088_ZeroBias_Run2018D-v1/180908_184320/0000/L1Ntuple_16.root', '/eos/cms/store/group/dpg_trigger/comm_trigger/L1Trigger/TEAshiftNtuples/ZeroBias2018D-week36-l1t-integration-v100p0-CMSSW-10_2_1/ZeroBias/crab_ZeroBias2018D-week36-l1t-integration-v100p0-CMSSW-10_2_1__322088_ZeroBias_Run2018D-v1/180908_184320/0000/L1Ntuple_17.root', '/eos/cms/store/group/dpg_trigger/comm_trigger/L1Trigger/TEAshiftNtuples/ZeroBias2018D-week36-l1t-integration-v100p0-CMSSW-10_2_1/ZeroBias/crab_ZeroBias2018D-week36-l1t-integration-v100p0-CMSSW-10_2_1__322088_ZeroBias_Run2018D-v1/180908_184320/0000/L1Ntuple_18.root', '/eos/cms/store/group/dpg_trigger/comm_trigger/L1Trigger/TEAshiftNtuples/ZeroBias2018D-week36-l1t-integration-v100p0-CMSSW-10_2_1/ZeroBias/crab_ZeroBias2018D-week36-l1t-integration-v100p0-CMSSW-10_2_1__322088_ZeroBias_Run2018D-v1/180908_184320/0000/L1Ntuple_19.root', '/eos/cms/store/group/dpg_trigger/comm_trigger/L1Trigger/TEAshiftNtuples/ZeroBias2018D-week36-l1t-integration-v100p0-CMSSW-10_2_1/ZeroBias/crab_ZeroBias2018D-week36-l1t-integration-v100p0-CMSSW-10_2_1__322088_ZeroBias_Run2018D-v1/180908_184320/0000/L1Ntuple_2.root', '/eos/cms/store/group/dpg_trigger/comm_trigger/L1Trigger/TEAshiftNtuples/ZeroBias2018D-week36-l1t-integration-v100p0-CMSSW-10_2_1/ZeroBias/crab_ZeroBias2018D-week36-l1t-integration-v100p0-CMSSW-10_2_1__322088_ZeroBias_Run2018D-v1/180908_184320/0000/L1Ntuple_20.root', '/eos/cms/store/group/dpg_trigger/comm_trigger/L1Trigger/TEAshiftNtuples/ZeroBias2018D-week36-l1t-integration-v100p0-CMSSW-10_2_1/ZeroBias/crab_ZeroBias2018D-week36-l1t-integration-v100p0-CMSSW-10_2_1__322088_ZeroBias_Run2018D-v1/180908_184320/0000/L1Ntuple_21.root', '/eos/cms/store/group/dpg_trigger/comm_trigger/L1Trigger/TEAshiftNtuples/ZeroBias2018D-week36-l1t-integration-v100p0-CMSSW-10_2_1/ZeroBias/crab_ZeroBias2018D-week36-l1t-integration-v100p0-CMSSW-10_2_1__322088_ZeroBias_Run2018D-v1/180908_184320/0000/L1Ntuple_22.root', '/eos/cms/store/group/dpg_trigger/comm_trigger/L1Trigger/TEAshiftNtuples/ZeroBias2018D-week36-l1t-integration-v100p0-CMSSW-10_2_1/ZeroBias/crab_ZeroBias2018D-week36-l1t-integration-v100p0-CMSSW-10_2_1__322088_ZeroBias_Run2018D-v1/180908_184320/0000/L1Ntuple_23.root', '/eos/cms/store/group/dpg_trigger/comm_trigger/L1Trigger/TEAshiftNtuples/ZeroBias2018D-week36-l1t-integration-v100p0-CMSSW-10_2_1/ZeroBias/crab_ZeroBias2018D-week36-l1t-integration-v100p0-CMSSW-10_2_1__322088_ZeroBias_Run2018D-v1/180908_184320/0000/L1Ntuple_24.root', '/eos/cms/store/group/dpg_trigger/comm_trigger/L1Trigger/TEAshiftNtuples/ZeroBias2018D-week36-l1t-integration-v100p0-CMSSW-10_2_1/ZeroBias/crab_ZeroBias2018D-week36-l1t-integration-v100p0-CMSSW-10_2_1__322088_ZeroBias_Run2018D-v1/180908_184320/0000/L1Ntuple_25.root', '/eos/cms/store/group/dpg_trigger/comm_trigger/L1Trigger/TEAshiftNtuples/ZeroBias2018D-week36-l1t-integration-v100p0-CMSSW-10_2_1/ZeroBias/crab_ZeroBias2018D-week36-l1t-integration-v100p0-CMSSW-10_2_1__322088_ZeroBias_Run2018D-v1/180908_184320/0000/L1Ntuple_26.root', '/eos/cms/store/group/dpg_trigger/comm_trigger/L1Trigger/TEAshiftNtuples/ZeroBias2018D-week36-l1t-integration-v100p0-CMSSW-10_2_1/ZeroBias/crab_ZeroBias2018D-week36-l1t-integration-v100p0-CMSSW-10_2_1__322088_ZeroBias_Run2018D-v1/180908_184320/0000/L1Ntuple_27.root', '/eos/cms/store/group/dpg_trigger/comm_trigger/L1Trigger/TEAshiftNtuples/ZeroBias2018D-week36-l1t-integration-v100p0-CMSSW-10_2_1/ZeroBias/crab_ZeroBias2018D-week36-l1t-integration-v100p0-CMSSW-10_2_1__322088_ZeroBias_Run2018D-v1/180908_184320/0000/L1Ntuple_28.root', '/eos/cms/store/group/dpg_trigger/comm_trigger/L1Trigger/TEAshiftNtuples/ZeroBias2018D-week36-l1t-integration-v100p0-CMSSW-10_2_1/ZeroBias/crab_ZeroBias2018D-week36-l1t-integration-v100p0-CMSSW-10_2_1__322088_ZeroBias_Run2018D-v1/180908_184320/0000/L1Ntuple_29.root', '/eos/cms/store/group/dpg_trigger/comm_trigger/L1Trigger/TEAshiftNtuples/ZeroBias2018D-week36-l1t-integration-v100p0-CMSSW-10_2_1/ZeroBias/crab_ZeroBias2018D-week36-l1t-integration-v100p0-CMSSW-10_2_1__322088_ZeroBias_Run2018D-v1/180908_184320/0000/L1Ntuple_3.root', '/eos/cms/store/group/dpg_trigger/comm_trigger/L1Trigger/TEAshiftNtuples/ZeroBias2018D-week36-l1t-integration-v100p0-CMSSW-10_2_1/ZeroBias/crab_ZeroBias2018D-week36-l1t-integration-v100p0-CMSSW-10_2_1__322088_ZeroBias_Run2018D-v1/180908_184320/0000/L1Ntuple_30.root', '/eos/cms/store/group/dpg_trigger/comm_trigger/L1Trigger/TEAshiftNtuples/ZeroBias2018D-week36-l1t-integration-v100p0-CMSSW-10_2_1/ZeroBias/crab_ZeroBias2018D-week36-l1t-integration-v100p0-CMSSW-10_2_1__322088_ZeroBias_Run2018D-v1/180908_184320/0000/L1Ntuple_31.root', '/eos/cms/store/group/dpg_trigger/comm_trigger/L1Trigger/TEAshiftNtuples/ZeroBias2018D-week36-l1t-integration-v100p0-CMSSW-10_2_1/ZeroBias/crab_ZeroBias2018D-week36-l1t-integration-v100p0-CMSSW-10_2_1__322088_ZeroBias_Run2018D-v1/180908_184320/0000/L1Ntuple_32.root', '/eos/cms/store/group/dpg_trigger/comm_trigger/L1Trigger/TEAshiftNtuples/ZeroBias2018D-week36-l1t-integration-v100p0-CMSSW-10_2_1/ZeroBias/crab_ZeroBias2018D-week36-l1t-integration-v100p0-CMSSW-10_2_1__322088_ZeroBias_Run2018D-v1/180908_184320/0000/L1Ntuple_33.root', '/eos/cms/store/group/dpg_trigger/comm_trigger/L1Trigger/TEAshiftNtuples/ZeroBias2018D-week36-l1t-integration-v100p0-CMSSW-10_2_1/ZeroBias/crab_ZeroBias2018D-week36-l1t-integration-v100p0-CMSSW-10_2_1__322088_ZeroBias_Run2018D-v1/180908_184320/0000/L1Ntuple_34.root', '/eos/cms/store/group/dpg_trigger/comm_trigger/L1Trigger/TEAshiftNtuples/ZeroBias2018D-week36-l1t-integration-v100p0-CMSSW-10_2_1/ZeroBias/crab_ZeroBias2018D-week36-l1t-integration-v100p0-CMSSW-10_2_1__322088_ZeroBias_Run2018D-v1/180908_184320/0000/L1Ntuple_35.root', '/eos/cms/store/group/dpg_trigger/comm_trigger/L1Trigger/TEAshiftNtuples/ZeroBias2018D-week36-l1t-integration-v100p0-CMSSW-10_2_1/ZeroBias/crab_ZeroBias2018D-week36-l1t-integration-v100p0-CMSSW-10_2_1__322088_ZeroBias_Run2018D-v1/180908_184320/0000/L1Ntuple_36.root', '/eos/cms/store/group/dpg_trigger/comm_trigger/L1Trigger/TEAshiftNtuples/ZeroBias2018D-week36-l1t-integration-v100p0-CMSSW-10_2_1/ZeroBias/crab_ZeroBias2018D-week36-l1t-integration-v100p0-CMSSW-10_2_1__322088_ZeroBias_Run2018D-v1/180908_184320/0000/L1Ntuple_37.root', '/eos/cms/store/group/dpg_trigger/comm_trigger/L1Trigger/TEAshiftNtuples/ZeroBias2018D-week36-l1t-integration-v100p0-CMSSW-10_2_1/ZeroBias/crab_ZeroBias2018D-week36-l1t-integration-v100p0-CMSSW-10_2_1__322088_ZeroBias_Run2018D-v1/180908_184320/0000/L1Ntuple_38.root', '/eos/cms/store/group/dpg_trigger/comm_trigger/L1Trigger/TEAshiftNtuples/ZeroBias2018D-week36-l1t-integration-v100p0-CMSSW-10_2_1/ZeroBias/crab_ZeroBias2018D-week36-l1t-integration-v100p0-CMSSW-10_2_1__322088_ZeroBias_Run2018D-v1/180908_184320/0000/L1Ntuple_39.root', '/eos/cms/store/group/dpg_trigger/comm_trigger/L1Trigger/TEAshiftNtuples/ZeroBias2018D-week36-l1t-integration-v100p0-CMSSW-10_2_1/ZeroBias/crab_ZeroBias2018D-week36-l1t-integration-v100p0-CMSSW-10_2_1__322088_ZeroBias_Run2018D-v1/180908_184320/0000/L1Ntuple_4.root', '/eos/cms/store/group/dpg_trigger/comm_trigger/L1Trigger/TEAshiftNtuples/ZeroBias2018D-week36-l1t-integration-v100p0-CMSSW-10_2_1/ZeroBias/crab_ZeroBias2018D-week36-l1t-integration-v100p0-CMSSW-10_2_1__322088_ZeroBias_Run2018D-v1/180908_184320/0000/L1Ntuple_40.root', '/eos/cms/store/group/dpg_trigger/comm_trigger/L1Trigger/TEAshiftNtuples/ZeroBias2018D-week36-l1t-integration-v100p0-CMSSW-10_2_1/ZeroBias/crab_ZeroBias2018D-week36-l1t-integration-v100p0-CMSSW-10_2_1__322088_ZeroBias_Run2018D-v1/180908_184320/0000/L1Ntuple_41.root', '/eos/cms/store/group/dpg_trigger/comm_trigger/L1Trigger/TEAshiftNtuples/ZeroBias2018D-week36-l1t-integration-v100p0-CMSSW-10_2_1/ZeroBias/crab_ZeroBias2018D-week36-l1t-integration-v100p0-CMSSW-10_2_1__322088_ZeroBias_Run2018D-v1/180908_184320/0000/L1Ntuple_42.root', '/eos/cms/store/group/dpg_trigger/comm_trigger/L1Trigger/TEAshiftNtuples/ZeroBias2018D-week36-l1t-integration-v100p0-CMSSW-10_2_1/ZeroBias/crab_ZeroBias2018D-week36-l1t-integration-v100p0-CMSSW-10_2_1__322088_ZeroBias_Run2018D-v1/180908_184320/0000/L1Ntuple_43.root', '/eos/cms/store/group/dpg_trigger/comm_trigger/L1Trigger/TEAshiftNtuples/ZeroBias2018D-week36-l1t-integration-v100p0-CMSSW-10_2_1/ZeroBias/crab_ZeroBias2018D-week36-l1t-integration-v100p0-CMSSW-10_2_1__322088_ZeroBias_Run2018D-v1/180908_184320/0000/L1Ntuple_44.root', '/eos/cms/store/group/dpg_trigger/comm_trigger/L1Trigger/TEAshiftNtuples/ZeroBias2018D-week36-l1t-integration-v100p0-CMSSW-10_2_1/ZeroBias/crab_ZeroBias2018D-week36-l1t-integration-v100p0-CMSSW-10_2_1__322088_ZeroBias_Run2018D-v1/180908_184320/0000/L1Ntuple_45.root', '/eos/cms/store/group/dpg_trigger/comm_trigger/L1Trigger/TEAshiftNtuples/ZeroBias2018D-week36-l1t-integration-v100p0-CMSSW-10_2_1/ZeroBias/crab_ZeroBias2018D-week36-l1t-integration-v100p0-CMSSW-10_2_1__322088_ZeroBias_Run2018D-v1/180908_184320/0000/L1Ntuple_46.root', '/eos/cms/store/group/dpg_trigger/comm_trigger/L1Trigger/TEAshiftNtuples/ZeroBias2018D-week36-l1t-integration-v100p0-CMSSW-10_2_1/ZeroBias/crab_ZeroBias2018D-week36-l1t-integration-v100p0-CMSSW-10_2_1__322088_ZeroBias_Run2018D-v1/180908_184320/0000/L1Ntuple_47.root', '/eos/cms/store/group/dpg_trigger/comm_trigger/L1Trigger/TEAshiftNtuples/ZeroBias2018D-week36-l1t-integration-v100p0-CMSSW-10_2_1/ZeroBias/crab_ZeroBias2018D-week36-l1t-integration-v100p0-CMSSW-10_2_1__322088_ZeroBias_Run2018D-v1/180908_184320/0000/L1Ntuple_48.root', '/eos/cms/store/group/dpg_trigger/comm_trigger/L1Trigger/TEAshiftNtuples/ZeroBias2018D-week36-l1t-integration-v100p0-CMSSW-10_2_1/ZeroBias/crab_ZeroBias2018D-week36-l1t-integration-v100p0-CMSSW-10_2_1__322088_ZeroBias_Run2018D-v1/180908_184320/0000/L1Ntuple_5.root', '/eos/cms/store/group/dpg_trigger/comm_trigger/L1Trigger/TEAshiftNtuples/ZeroBias2018D-week36-l1t-integration-v100p0-CMSSW-10_2_1/ZeroBias/crab_ZeroBias2018D-week36-l1t-integration-v100p0-CMSSW-10_2_1__322088_ZeroBias_Run2018D-v1/180908_184320/0000/L1Ntuple_50.root', '/eos/cms/store/group/dpg_trigger/comm_trigger/L1Trigger/TEAshiftNtuples/ZeroBias2018D-week36-l1t-integration-v100p0-CMSSW-10_2_1/ZeroBias/crab_ZeroBias2018D-week36-l1t-integration-v100p0-CMSSW-10_2_1__322088_ZeroBias_Run2018D-v1/180908_184320/0000/L1Ntuple_51.root', '/eos/cms/store/group/dpg_trigger/comm_trigger/L1Trigger/TEAshiftNtuples/ZeroBias2018D-week36-l1t-integration-v100p0-CMSSW-10_2_1/ZeroBias/crab_ZeroBias2018D-week36-l1t-integration-v100p0-CMSSW-10_2_1__322088_ZeroBias_Run2018D-v1/180908_184320/0000/L1Ntuple_52.root', '/eos/cms/store/group/dpg_trigger/comm_trigger/L1Trigger/TEAshiftNtuples/ZeroBias2018D-week36-l1t-integration-v100p0-CMSSW-10_2_1/ZeroBias/crab_ZeroBias2018D-week36-l1t-integration-v100p0-CMSSW-10_2_1__322088_ZeroBias_Run2018D-v1/180908_184320/0000/L1Ntuple_53.root', '/eos/cms/store/group/dpg_trigger/comm_trigger/L1Trigger/TEAshiftNtuples/ZeroBias2018D-week36-l1t-integration-v100p0-CMSSW-10_2_1/ZeroBias/crab_ZeroBias2018D-week36-l1t-integration-v100p0-CMSSW-10_2_1__322088_ZeroBias_Run2018D-v1/180908_184320/0000/L1Ntuple_54.root', '/eos/cms/store/group/dpg_trigger/comm_trigger/L1Trigger/TEAshiftNtuples/ZeroBias2018D-week36-l1t-integration-v100p0-CMSSW-10_2_1/ZeroBias/crab_ZeroBias2018D-week36-l1t-integration-v100p0-CMSSW-10_2_1__322088_ZeroBias_Run2018D-v1/180908_184320/0000/L1Ntuple_55.root', '/eos/cms/store/group/dpg_trigger/comm_trigger/L1Trigger/TEAshiftNtuples/ZeroBias2018D-week36-l1t-integration-v100p0-CMSSW-10_2_1/ZeroBias/crab_ZeroBias2018D-week36-l1t-integration-v100p0-CMSSW-10_2_1__322088_ZeroBias_Run2018D-v1/180908_184320/0000/L1Ntuple_56.root', '/eos/cms/store/group/dpg_trigger/comm_trigger/L1Trigger/TEAshiftNtuples/ZeroBias2018D-week36-l1t-integration-v100p0-CMSSW-10_2_1/ZeroBias/crab_ZeroBias2018D-week36-l1t-integration-v100p0-CMSSW-10_2_1__322088_ZeroBias_Run2018D-v1/180908_184320/0000/L1Ntuple_57.root', '/eos/cms/store/group/dpg_trigger/comm_trigger/L1Trigger/TEAshiftNtuples/ZeroBias2018D-week36-l1t-integration-v100p0-CMSSW-10_2_1/ZeroBias/crab_ZeroBias2018D-week36-l1t-integration-v100p0-CMSSW-10_2_1__322088_ZeroBias_Run2018D-v1/180908_184320/0000/L1Ntuple_58.root', '/eos/cms/store/group/dpg_trigger/comm_trigger/L1Trigger/TEAshiftNtuples/ZeroBias2018D-week36-l1t-integration-v100p0-CMSSW-10_2_1/ZeroBias/crab_ZeroBias2018D-week36-l1t-integration-v100p0-CMSSW-10_2_1__322088_ZeroBias_Run2018D-v1/180908_184320/0000/L1Ntuple_59.root', '/eos/cms/store/group/dpg_trigger/comm_trigger/L1Trigger/TEAshiftNtuples/ZeroBias2018D-week36-l1t-integration-v100p0-CMSSW-10_2_1/ZeroBias/crab_ZeroBias2018D-week36-l1t-integration-v100p0-CMSSW-10_2_1__322088_ZeroBias_Run2018D-v1/180908_184320/0000/L1Ntuple_6.root', '/eos/cms/store/group/dpg_trigger/comm_trigger/L1Trigger/TEAshiftNtuples/ZeroBias2018D-week36-l1t-integration-v100p0-CMSSW-10_2_1/ZeroBias/crab_ZeroBias2018D-week36-l1t-integration-v100p0-CMSSW-10_2_1__322088_ZeroBias_Run2018D-v1/180908_184320/0000/L1Ntuple_60.root', '/eos/cms/store/group/dpg_trigger/comm_trigger/L1Trigger/TEAshiftNtuples/ZeroBias2018D-week36-l1t-integration-v100p0-CMSSW-10_2_1/ZeroBias/crab_ZeroBias2018D-week36-l1t-integration-v100p0-CMSSW-10_2_1__322088_ZeroBias_Run2018D-v1/180908_184320/0000/L1Ntuple_61.root', '/eos/cms/store/group/dpg_trigger/comm_trigger/L1Trigger/TEAshiftNtuples/ZeroBias2018D-week36-l1t-integration-v100p0-CMSSW-10_2_1/ZeroBias/crab_ZeroBias2018D-week36-l1t-integration-v100p0-CMSSW-10_2_1__322088_ZeroBias_Run2018D-v1/180908_184320/0000/L1Ntuple_7.root', '/eos/cms/store/group/dpg_trigger/comm_trigger/L1Trigger/TEAshiftNtuples/ZeroBias2018D-week36-l1t-integration-v100p0-CMSSW-10_2_1/ZeroBias/crab_ZeroBias2018D-week36-l1t-integration-v100p0-CMSSW-10_2_1__322088_ZeroBias_Run2018D-v1/180908_184320/0000/L1Ntuple_8.root', '/eos/cms/store/group/dpg_trigger/comm_trigger/L1Trigger/TEAshiftNtuples/ZeroBias2018D-week36-l1t-integration-v100p0-CMSSW-10_2_1/ZeroBias/crab_ZeroBias2018D-week36-l1t-integration-v100p0-CMSSW-10_2_1__322088_ZeroBias_Run2018D-v1/180908_184320/0000/L1Ntuple_9.root', '/eos/cms/store/group/dpg_trigger/comm_trigger/L1Trigger/TEAshiftNtuples/ZeroBias2018D-week36-l1t-integration-v100p0-CMSSW-10_2_1/ZeroBias/crab_ZeroBias2018D-week36-l1t-integration-v100p0-CMSSW-10_2_1__322088_ZeroBias_Run2018D-v1/180908_184320/0000/failed/L1Ntuple_49.root']\n"
     ]
    }
   ],
   "source": [
    "# Declare process and dataset objects\n",
    "rate_process = Process(\"rate\", \"rate\", color=(0, 0, 0))\n",
    "ggf_bis = Dataset(\"rate\",\n",
    "             #\"/eos/user/j/jleonhol/HH/ggf_2018_nanotest2/\",\n",
    "             #\"/eos/cms/store/group/dpg_trigger/comm_trigger/L1Trigger/stempl/CRAB/EphemeralZeroBias8/zb_Nov2020-v2/201119_174913/0000/\",\n",
    "             \"/eos/cms/store/group/dpg_trigger/comm_trigger/L1Trigger/TEAshiftNtuples/ZeroBias2018D-week36-l1t-integration-v100p0-CMSSW-10_2_1/ZeroBias\",\n",
    "             rate_process)\n",
    "\n",
    "# build RDataFrame and open TFile to obtain the results using both methods\n",
    "files = ggf_bis.get_files()\n",
    "print files\n",
    "dataframe_files = ROOT.vector(str)()\n",
    "for f in files:\n",
    "    dataframe_files.push_back(f)\n",
    "df = ROOT.RDataFrame(\"l1EventTree/L1EventTree\", dataframe_files)"
   ]
  },
  {
   "cell_type": "code",
   "execution_count": 10,
   "metadata": {},
   "outputs": [],
   "source": [
    "histo = df.Histo1D(\"run\")"
   ]
  },
  {
   "cell_type": "code",
   "execution_count": 11,
   "metadata": {},
   "outputs": [
    {
     "data": {
      "image/png": "[encoded data removed]",
      "text/plain": [
       "<IPython.core.display.Image object>"
      ]
     },
     "metadata": {},
     "output_type": "display_data"
    }
   ],
   "source": [
    "c = ROOT.TCanvas(\"\", \"\", 800, 800)\n",
    "histo.Draw()\n",
    "c.Draw()"
   ]
  },
  {
   "cell_type": "code",
   "execution_count": 5,
   "metadata": {},
   "outputs": [],
   "source": [
    "histo_lumi = df.Histo1D(\"lumi\")"
   ]
  },
  {
   "cell_type": "code",
   "execution_count": 11,
   "metadata": {},
   "outputs": [
    {
     "data": {
      "image/png": "[encoded data removed]",
      "text/plain": [
       "<IPython.core.display.Image object>"
      ]
     },
     "metadata": {},
     "output_type": "display_data"
    }
   ],
   "source": [
    "c = ROOT.TCanvas(\"\", \"\", 800, 800)\n",
    "histo_lumi.Draw()\n",
    "c.Draw()"
   ]
  },
  {
   "cell_type": "code",
   "execution_count": 6,
   "metadata": {},
   "outputs": [],
   "source": [
    "histo_orbit = df.Histo1D(\"orbit\")"
   ]
  },
  {
   "cell_type": "code",
   "execution_count": 13,
   "metadata": {},
   "outputs": [
    {
     "data": {
      "image/png": "[encoded data removed]",
      "text/plain": [
       "<IPython.core.display.Image object>"
      ]
     },
     "metadata": {},
     "output_type": "display_data"
    }
   ],
   "source": [
    "c = ROOT.TCanvas(\"\", \"\", 800, 800)\n",
    "histo_orbit.Draw()\n",
    "c.Draw()"
   ]
  },
  {
   "cell_type": "code",
   "execution_count": null,
   "metadata": {},
   "outputs": [],
   "source": []
  }
 ],
 "metadata": {
  "kernelspec": {
   "display_name": "Python 2",
   "language": "python",
   "name": "python2"
  },
  "language_info": {
   "codemirror_mode": {
    "name": "ipython",
    "version": 2
   },
   "file_extension": ".py",
   "mimetype": "text/x-python",
   "name": "python",
   "nbconvert_exporter": "python",
   "pygments_lexer": "ipython2",
   "version": "2.7.15+"
  }
 },
 "nbformat": 4,
 "nbformat_minor": 2
}
