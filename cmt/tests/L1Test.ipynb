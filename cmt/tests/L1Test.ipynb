{
 "cells": [
  {
   "cell_type": "code",
   "execution_count": 1,
   "metadata": {},
   "outputs": [
    {
     "name": "stdout",
     "output_type": "stream",
     "text": [
      "Welcome to JupyROOT 6.18/04\n"
     ]
    }
   ],
   "source": [
    "from analysis_tools import Dataset, Process, Feature\n",
    "from pprint import pprint\n",
    "import ROOT\n",
    "ROOT.ROOT.EnableImplicitMT()"
   ]
  },
  {
   "cell_type": "code",
   "execution_count": 2,
   "metadata": {},
   "outputs": [
    {
     "name": "stdout",
     "output_type": "stream",
     "text": [
      "['/eos/user/j/jleonhol/HH/htautau_ggf//NANO_NANO_1.root']\n"
     ]
    }
   ],
   "source": [
    "ggf_sm_process = Process(\"ggf_sm\", \"GGFSM\", color=(0, 0, 0))\n",
    "ggf_bis = Dataset(\"ggf_sm_bis\",\n",
    "             \"/eos/user/j/jleonhol/HH/htautau_ggf/\",\n",
    "             ggf_sm_process)\n",
    "\n",
    "\n",
    "files = ggf_bis.get_files()[0:1]\n",
    "print files\n",
    "#files = [\"/eos/user/j/jleonhol/HH/htautau_ggf/NANO_NANO_188.root\"]\n",
    "dataframe_files = ROOT.vector(str)()\n",
    "for f in files:\n",
    "    dataframe_files.push_back(f)\n",
    "new_df = ROOT.RDataFrame(\"Events\", dataframe_files)\n",
    "\n",
    "\n",
    "\n",
    "f = ROOT.TFile.Open(files[0])\n"
   ]
  },
  {
   "cell_type": "code",
   "execution_count": 18,
   "metadata": {},
   "outputs": [
    {
     "name": "stdout",
     "output_type": "stream",
     "text": [
      "['/eos/home-j/jleonhol/HH/run322599/L1Ntuple_1.root', '/eos/home-j/jleonhol/HH/run322599/L1Ntuple_10.root', '/eos/home-j/jleonhol/HH/run322599/L1Ntuple_100.root', '/eos/home-j/jleonhol/HH/run322599/L1Ntuple_101.root', '/eos/home-j/jleonhol/HH/run322599/L1Ntuple_11.root', '/eos/home-j/jleonhol/HH/run322599/L1Ntuple_12.root', '/eos/home-j/jleonhol/HH/run322599/L1Ntuple_13.root', '/eos/home-j/jleonhol/HH/run322599/L1Ntuple_14.root', '/eos/home-j/jleonhol/HH/run322599/L1Ntuple_15.root', '/eos/home-j/jleonhol/HH/run322599/L1Ntuple_16.root', '/eos/home-j/jleonhol/HH/run322599/L1Ntuple_17.root', '/eos/home-j/jleonhol/HH/run322599/L1Ntuple_18.root', '/eos/home-j/jleonhol/HH/run322599/L1Ntuple_19.root', '/eos/home-j/jleonhol/HH/run322599/L1Ntuple_2.root', '/eos/home-j/jleonhol/HH/run322599/L1Ntuple_20.root', '/eos/home-j/jleonhol/HH/run322599/L1Ntuple_21.root', '/eos/home-j/jleonhol/HH/run322599/L1Ntuple_22.root', '/eos/home-j/jleonhol/HH/run322599/L1Ntuple_23.root', '/eos/home-j/jleonhol/HH/run322599/L1Ntuple_24.root', '/eos/home-j/jleonhol/HH/run322599/L1Ntuple_25.root', '/eos/home-j/jleonhol/HH/run322599/L1Ntuple_26.root', '/eos/home-j/jleonhol/HH/run322599/L1Ntuple_27.root', '/eos/home-j/jleonhol/HH/run322599/L1Ntuple_28.root', '/eos/home-j/jleonhol/HH/run322599/L1Ntuple_29.root', '/eos/home-j/jleonhol/HH/run322599/L1Ntuple_3.root', '/eos/home-j/jleonhol/HH/run322599/L1Ntuple_30.root', '/eos/home-j/jleonhol/HH/run322599/L1Ntuple_31.root', '/eos/home-j/jleonhol/HH/run322599/L1Ntuple_32.root', '/eos/home-j/jleonhol/HH/run322599/L1Ntuple_33.root', '/eos/home-j/jleonhol/HH/run322599/L1Ntuple_34.root', '/eos/home-j/jleonhol/HH/run322599/L1Ntuple_35.root', '/eos/home-j/jleonhol/HH/run322599/L1Ntuple_36.root', '/eos/home-j/jleonhol/HH/run322599/L1Ntuple_37.root', '/eos/home-j/jleonhol/HH/run322599/L1Ntuple_38.root', '/eos/home-j/jleonhol/HH/run322599/L1Ntuple_39.root', '/eos/home-j/jleonhol/HH/run322599/L1Ntuple_4.root', '/eos/home-j/jleonhol/HH/run322599/L1Ntuple_40.root', '/eos/home-j/jleonhol/HH/run322599/L1Ntuple_41.root', '/eos/home-j/jleonhol/HH/run322599/L1Ntuple_42.root', '/eos/home-j/jleonhol/HH/run322599/L1Ntuple_43.root', '/eos/home-j/jleonhol/HH/run322599/L1Ntuple_44.root', '/eos/home-j/jleonhol/HH/run322599/L1Ntuple_45.root', '/eos/home-j/jleonhol/HH/run322599/L1Ntuple_46.root', '/eos/home-j/jleonhol/HH/run322599/L1Ntuple_47.root', '/eos/home-j/jleonhol/HH/run322599/L1Ntuple_48.root', '/eos/home-j/jleonhol/HH/run322599/L1Ntuple_49.root', '/eos/home-j/jleonhol/HH/run322599/L1Ntuple_5.root', '/eos/home-j/jleonhol/HH/run322599/L1Ntuple_50.root', '/eos/home-j/jleonhol/HH/run322599/L1Ntuple_51.root', '/eos/home-j/jleonhol/HH/run322599/L1Ntuple_52.root', '/eos/home-j/jleonhol/HH/run322599/L1Ntuple_53.root', '/eos/home-j/jleonhol/HH/run322599/L1Ntuple_54.root', '/eos/home-j/jleonhol/HH/run322599/L1Ntuple_55.root', '/eos/home-j/jleonhol/HH/run322599/L1Ntuple_56.root', '/eos/home-j/jleonhol/HH/run322599/L1Ntuple_57.root', '/eos/home-j/jleonhol/HH/run322599/L1Ntuple_58.root', '/eos/home-j/jleonhol/HH/run322599/L1Ntuple_59.root', '/eos/home-j/jleonhol/HH/run322599/L1Ntuple_6.root', '/eos/home-j/jleonhol/HH/run322599/L1Ntuple_60.root', '/eos/home-j/jleonhol/HH/run322599/L1Ntuple_61.root', '/eos/home-j/jleonhol/HH/run322599/L1Ntuple_62.root', '/eos/home-j/jleonhol/HH/run322599/L1Ntuple_63.root', '/eos/home-j/jleonhol/HH/run322599/L1Ntuple_64.root', '/eos/home-j/jleonhol/HH/run322599/L1Ntuple_65.root', '/eos/home-j/jleonhol/HH/run322599/L1Ntuple_66.root', '/eos/home-j/jleonhol/HH/run322599/L1Ntuple_67.root', '/eos/home-j/jleonhol/HH/run322599/L1Ntuple_68.root', '/eos/home-j/jleonhol/HH/run322599/L1Ntuple_69.root', '/eos/home-j/jleonhol/HH/run322599/L1Ntuple_7.root', '/eos/home-j/jleonhol/HH/run322599/L1Ntuple_70.root', '/eos/home-j/jleonhol/HH/run322599/L1Ntuple_71.root', '/eos/home-j/jleonhol/HH/run322599/L1Ntuple_72.root', '/eos/home-j/jleonhol/HH/run322599/L1Ntuple_73.root', '/eos/home-j/jleonhol/HH/run322599/L1Ntuple_74.root', '/eos/home-j/jleonhol/HH/run322599/L1Ntuple_75.root', '/eos/home-j/jleonhol/HH/run322599/L1Ntuple_76.root', '/eos/home-j/jleonhol/HH/run322599/L1Ntuple_77.root', '/eos/home-j/jleonhol/HH/run322599/L1Ntuple_78.root', '/eos/home-j/jleonhol/HH/run322599/L1Ntuple_79.root', '/eos/home-j/jleonhol/HH/run322599/L1Ntuple_8.root', '/eos/home-j/jleonhol/HH/run322599/L1Ntuple_80.root', '/eos/home-j/jleonhol/HH/run322599/L1Ntuple_81.root', '/eos/home-j/jleonhol/HH/run322599/L1Ntuple_82.root', '/eos/home-j/jleonhol/HH/run322599/L1Ntuple_83.root', '/eos/home-j/jleonhol/HH/run322599/L1Ntuple_84.root', '/eos/home-j/jleonhol/HH/run322599/L1Ntuple_85.root', '/eos/home-j/jleonhol/HH/run322599/L1Ntuple_86.root', '/eos/home-j/jleonhol/HH/run322599/L1Ntuple_87.root', '/eos/home-j/jleonhol/HH/run322599/L1Ntuple_88.root', '/eos/home-j/jleonhol/HH/run322599/L1Ntuple_89.root', '/eos/home-j/jleonhol/HH/run322599/L1Ntuple_9.root', '/eos/home-j/jleonhol/HH/run322599/L1Ntuple_90.root', '/eos/home-j/jleonhol/HH/run322599/L1Ntuple_91.root', '/eos/home-j/jleonhol/HH/run322599/L1Ntuple_92.root', '/eos/home-j/jleonhol/HH/run322599/L1Ntuple_93.root', '/eos/home-j/jleonhol/HH/run322599/L1Ntuple_94.root', '/eos/home-j/jleonhol/HH/run322599/L1Ntuple_95.root', '/eos/home-j/jleonhol/HH/run322599/L1Ntuple_96.root', '/eos/home-j/jleonhol/HH/run322599/L1Ntuple_97.root', '/eos/home-j/jleonhol/HH/run322599/L1Ntuple_98.root', '/eos/home-j/jleonhol/HH/run322599/L1Ntuple_99.root']\n"
     ]
    }
   ],
   "source": [
    "data_pro = Process(\"data\", \"data\", color=(0, 0, 0))\n",
    "data = Dataset(\"data\",\n",
    "             \"/eos/home-j/jleonhol/HH/run322599\",\n",
    "             data_pro)\n",
    "\n",
    "\n",
    "files = data.get_files()\n",
    "print files\n",
    "#files = [\"/eos/user/j/jleonhol/HH/htautau_ggf/NANO_NANO_188.root\"]\n",
    "dataframe_files = ROOT.vector(str)()\n",
    "for f in files:\n",
    "    dataframe_files.push_back(f)\n",
    "new_df = ROOT.RDataFrame(\"l1UpgradeTree/L1UpgradeTree\", dataframe_files)\n",
    "#new_df = ROOT.RDataFrame(\"l1EventTree/L1EventTree\", dataframe_files)\n",
    "\n",
    "\n"
   ]
  },
  {
   "cell_type": "code",
   "execution_count": 19,
   "metadata": {},
   "outputs": [],
   "source": [
    "histo = new_df.Histo1D(\"tauEt\")"
   ]
  },
  {
   "cell_type": "code",
   "execution_count": 15,
   "metadata": {},
   "outputs": [
    {
     "data": {
      "image/png": "[encoded data removed]",
      "text/plain": [
       "<IPython.core.display.Image object>"
      ]
     },
     "metadata": {},
     "output_type": "display_data"
    }
   ],
   "source": [
    "c = ROOT.TCanvas(\"\", \"\", 800, 800)\n",
    "histo.Draw()\n",
    "c.Draw()"
   ]
  },
  {
   "cell_type": "code",
   "execution_count": 3,
   "metadata": {},
   "outputs": [],
   "source": [
    "def add_to_root(root):\n",
    "    root.gInterpreter.Declare(\"\"\"\n",
    "        using Vfloat = const ROOT::RVec<float>&;      \n",
    "        ROOT::RVec<ROOT::RVec<float>> lead_sublead(Vfloat pt, Vfloat eta, Vfloat phi, Vfloat mass){\n",
    "            ROOT::RVec<float> leading_pts = {-1., -1.};\n",
    "            ROOT::RVec<float> leading_etas = {-1., -1.};\n",
    "            ROOT::RVec<float> leading_phis = {-1., -1.};\n",
    "            ROOT::RVec<float> leading_mass = {-1., -1.};\n",
    "            for (size_t i = 0; i < pt.size(); i++) {\n",
    "                if (pt[i] > leading_pts[0]){\n",
    "                    leading_pts[1] = leading_pts[0];\n",
    "                    leading_etas[1] = leading_etas[0];\n",
    "                    leading_phis[1] = leading_phis[0];\n",
    "                    leading_mass[1] = leading_mass[0];\n",
    "    \n",
    "                    leading_pts[0] = pt[i];\n",
    "                    leading_etas[0] = eta[i];\n",
    "                    leading_phis[0] = phi[i];\n",
    "                    leading_mass[0] = mass[i];\n",
    "                } \n",
    "                else if (pt[i] > leading_pts[1]){\n",
    "                    leading_pts[1] = pt[i];\n",
    "                    leading_etas[1] = eta[i];\n",
    "                    leading_phis[1] = phi[i];\n",
    "                    leading_mass[1] = mass[i];\n",
    "                }\n",
    "            }\n",
    "            return ROOT::RVec({leading_pts, leading_etas, leading_phis, leading_mass});\n",
    "        }\n",
    "    \"\"\")\n",
    "    root.gInterpreter.Declare(\"\"\"\n",
    "    #include <TLorentzVector.h>\n",
    "    using Vfloat = const ROOT::RVec<float>&;      \n",
    "    ROOT::RVec<bool> maskDeltaR(Vfloat pt1, Vfloat eta1, Vfloat phi1, Vfloat mass1, Vfloat pt2, Vfloat eta2, Vfloat phi2, Vfloat mass2, float th_dr) {\n",
    "        ROOT::RVec<bool> mask;\n",
    "        for (size_t i = 0; i < pt1.size(); i++){\n",
    "            TLorentzVector v1;\n",
    "            v1.SetPtEtaPhiM(pt1[i], eta1[i], phi1[i], mass1[i]);\n",
    "            int bigger_deltar = true;\n",
    "            for (size_t j = 0; j < pt2.size(); j++){\n",
    "                TLorentzVector v2;\n",
    "                v2.SetPtEtaPhiM(pt2[j], eta2[j], phi2[j], mass2[j]);\n",
    "                float this_deltar = fabs(v1.DeltaR(v2));\n",
    "                if (abs(this_deltar) < th_dr) bigger_deltar = false;\n",
    "            }\n",
    "            mask.push_back(bigger_deltar);\n",
    "        }\n",
    "        return mask;\n",
    "    }\n",
    "\"\"\")\n",
    "    return root\n",
    "ROOT = add_to_root(ROOT)"
   ]
  },
  {
   "cell_type": "code",
   "execution_count": 4,
   "metadata": {},
   "outputs": [],
   "source": [
    "new_df = (new_df.Define(\"lead_sublead_goodtau_pt\",\n",
    "    \"lead_sublead(\"\n",
    "        \"Tau_pt[abs(Tau_eta) <= 2.1], \"\n",
    "        \"Tau_eta[abs(Tau_eta) <= 2.1], \"\n",
    "        \"Tau_phi[abs(Tau_eta) <= 2.1], \"\n",
    "        \"Tau_mass[abs(Tau_eta) <= 2.1]\"\n",
    "    \")[0]\").Define(\"lead_sublead_goodtau_eta\", \n",
    "    \"lead_sublead(\"\n",
    "        \"Tau_pt[abs(Tau_eta) <= 2.1], \"\n",
    "        \"Tau_eta[abs(Tau_eta) <= 2.1], \"\n",
    "        \"Tau_phi[abs(Tau_eta) <= 2.1], \"\n",
    "        \"Tau_mass[abs(Tau_eta) <= 2.1]\"\n",
    "    \")[1]\").Define(\"lead_sublead_goodtau_phi\", \n",
    "    \"lead_sublead(\"\n",
    "        \"Tau_pt[abs(Tau_eta) <= 2.1], \"\n",
    "        \"Tau_eta[abs(Tau_eta) <= 2.1], \"\n",
    "        \"Tau_phi[abs(Tau_eta) <= 2.1], \"\n",
    "        \"Tau_mass[abs(Tau_eta) <= 2.1]\"\n",
    "    \")[2]\").Define(\"lead_sublead_goodtau_mass\", \n",
    "    \"lead_sublead(\"\n",
    "        \"Tau_pt[abs(Tau_eta) <= 2.1], \"\n",
    "        \"Tau_eta[abs(Tau_eta) <= 2.1], \"\n",
    "        \"Tau_phi[abs(Tau_eta) <= 2.1], \"\n",
    "        \"Tau_mass[abs(Tau_eta) <= 2.1]\"\n",
    "    \")[3]\"))"
   ]
  },
  {
   "cell_type": "code",
   "execution_count": 5,
   "metadata": {},
   "outputs": [],
   "source": [
    "new_df = new_df.Define(\"lead_sublead_goodl1tau_pt\",\n",
    "    \"lead_sublead(\"\n",
    "        \"L1Obj_pt[L1Obj_type == 1 && L1Obj_iso == 1 && abs(L1Obj_eta) <= 2.1], \"\n",
    "        \"L1Obj_eta[L1Obj_type == 1 && L1Obj_iso == 1 && abs(L1Obj_eta) <= 2.1], \"\n",
    "        \"L1Obj_phi[L1Obj_type == 1 && L1Obj_iso == 1 && abs(L1Obj_eta) <= 2.1], \"\n",
    "        \"L1Obj_pt[L1Obj_type == 1 && L1Obj_iso == 1 && abs(L1Obj_eta) <= 2.1]\"\n",
    "    \")[0]\").Define(\"lead_sublead_goodl1tau_eta\", \n",
    "    \"lead_sublead(\"\n",
    "        \"L1Obj_pt[L1Obj_type == 1 && L1Obj_iso == 1 && abs(L1Obj_eta) <= 2.1], \"\n",
    "        \"L1Obj_eta[L1Obj_type == 1 && L1Obj_iso == 1 && abs(L1Obj_eta) <= 2.1], \"\n",
    "        \"L1Obj_phi[L1Obj_type == 1 && L1Obj_iso == 1 && abs(L1Obj_eta) <= 2.1], \"\n",
    "        \"L1Obj_pt[L1Obj_type == 1 && L1Obj_iso == 1 && abs(L1Obj_eta) <= 2.1]\"\n",
    "    \")[1]\").Define(\"lead_sublead_goodl1tau_phi\", \n",
    "    \"lead_sublead(\"\n",
    "        \"L1Obj_pt[L1Obj_type == 1 && L1Obj_iso == 1 && abs(L1Obj_eta) <= 4.7], \"\n",
    "        \"L1Obj_eta[L1Obj_type == 1 && L1Obj_iso == 1 && abs(L1Obj_eta) <= 4.7], \"\n",
    "        \"L1Obj_phi[L1Obj_type == 1 && L1Obj_iso == 1 && abs(L1Obj_eta) <= 4.7], \"\n",
    "        \"L1Obj_pt[L1Obj_type == 1 && L1Obj_iso == 1 && abs(L1Obj_eta) <= 4.7]\"\n",
    "    \")[2]\")"
   ]
  },
  {
   "cell_type": "code",
   "execution_count": 15,
   "metadata": {},
   "outputs": [],
   "source": [
    "hmodel = (\"pt\", \"; L1 Jet pt; Events / 4 GeV\", 35, 20, 160)\n",
    "pt = new_df.Define(\n",
    "    \"L1GoodJetPt\",\n",
    "    \"L1Obj_pt[\"\n",
    "        \"L1Obj_type == 0 \"\n",
    "        \"&& abs(L1Obj_eta) < 4.7\"\n",
    "        \"&& maskDeltaR(\"\n",
    "            \"L1Obj_pt, \"\n",
    "            \"L1Obj_eta, \"\n",
    "            \"L1Obj_phi, \"\n",
    "            \"L1Obj_pt, \"\n",
    "            \"lead_sublead_goodl1tau_pt, \"\n",
    "            \"lead_sublead_goodl1tau_eta, \"\n",
    "            \"lead_sublead_goodl1tau_phi, \"\n",
    "            \"lead_sublead_goodl1tau_pt, \"\n",
    "            \"0.5)\"\n",
    "    \"]\"\n",
    ").Define(\n",
    "    \"L1LeadingJetPt\",\n",
    "    \"lead_sublead(L1GoodJetPt, L1GoodJetPt, L1GoodJetPt, L1GoodJetPt)[0][0]\"\n",
    ").Histo1D(hmodel, \"L1LeadingJetPt\")\n",
    "\n"
   ]
  },
  {
   "cell_type": "code",
   "execution_count": 17,
   "metadata": {},
   "outputs": [],
   "source": [
    "f_df = new_df.Filter(\"lead_sublead_goodl1tau_pt[1] > 26\")"
   ]
  },
  {
   "cell_type": "code",
   "execution_count": 18,
   "metadata": {},
   "outputs": [],
   "source": [
    "pt = f_df.Define(\n",
    "    \"L1GoodJetPt\",\n",
    "    \"L1Obj_pt[\"\n",
    "        \"L1Obj_type == 0 \"\n",
    "        \"&& abs(L1Obj_eta) < 4.7\"\n",
    "        \"&& maskDeltaR(\"\n",
    "            \"L1Obj_pt, \"\n",
    "            \"L1Obj_eta, \"\n",
    "            \"L1Obj_phi, \"\n",
    "            \"L1Obj_pt, \"\n",
    "            \"lead_sublead_goodl1tau_pt, \"\n",
    "            \"lead_sublead_goodl1tau_eta, \"\n",
    "            \"lead_sublead_goodl1tau_phi, \"\n",
    "            \"lead_sublead_goodl1tau_pt, \"\n",
    "            \"0.5)\"\n",
    "    \"]\"\n",
    ").Define(\n",
    "    \"L1LeadingJetPt\",\n",
    "    \"lead_sublead(L1GoodJetPt, L1GoodJetPt, L1GoodJetPt, L1GoodJetPt)[0][0]\"\n",
    ").Histo1D(hmodel, \"L1LeadingJetPt\")"
   ]
  },
  {
   "cell_type": "code",
   "execution_count": 19,
   "metadata": {},
   "outputs": [
    {
     "data": {
      "image/png": "[encoded data removed]",
      "text/plain": [
       "<IPython.core.display.Image object>"
      ]
     },
     "metadata": {},
     "output_type": "display_data"
    }
   ],
   "source": [
    "ROOT.gStyle.SetOptStat(0)\n",
    "c = ROOT.TCanvas(\"\", \"\", 800, 800)\n",
    "h = pt.Clone()\n",
    "#h.Scale(1./h.GetEntries())\n",
    "#h.GetXaxis().SetRangeUser(0, 200)\n",
    "h.Draw()\n",
    "c.Draw()"
   ]
  },
  {
   "cell_type": "markdown",
   "metadata": {},
   "source": [
    "## Compute the jet probability for YY = 26, 34 "
   ]
  },
  {
   "cell_type": "code",
   "execution_count": 35,
   "metadata": {},
   "outputs": [],
   "source": [
    "(xx, yy, zz)= (34, 26, 64)\n",
    "df_26 = new_df.Filter(\n",
    "    \"lead_sublead_goodtau_pt[0] >= (26 + 18) \"\n",
    "    \"&& lead_sublead_goodtau_pt[1] >= (26 + 8)\"\n",
    "    \"&& (Jet_pt[\"\n",
    "            \"(Jet_pt >= (20 + 10)) && abs(Jet_eta) <= 4.7 && Jet_jetId >= 2 \"\n",
    "            \"&& ((Jet_puId >= 4 && Jet_pt <= 50) || (Jet_pt > 50))\"\n",
    "            \"&& maskDeltaR(\"\n",
    "                \"Jet_pt, \"\n",
    "                \"Jet_eta, \"\n",
    "                \"Jet_phi, \"\n",
    "                \"Jet_pt, \"\n",
    "                \"lead_sublead_goodtau_pt, \"\n",
    "                \"lead_sublead_goodtau_eta, \"\n",
    "                \"lead_sublead_goodtau_phi, \"\n",
    "                \"lead_sublead_goodtau_mass, \"\n",
    "                \"0.5)\"\n",
    "     \"].size() >= 2)\"\n",
    "     \"&& (Jet_pt[\"\n",
    "            \"(Jet_pt >= (20 + 10)) && abs(Jet_eta) <= 4.7 && Jet_jetId >= 2 \"\n",
    "            \"&& ((Jet_puId >= 4 && Jet_pt <= 50) || (Jet_pt > 50))\"\n",
    "            \"&& maskDeltaR(\"\n",
    "                \"Jet_pt, \"\n",
    "                \"Jet_eta, \"\n",
    "                \"Jet_phi, \"\n",
    "                \"Jet_pt, \"\n",
    "                \"lead_sublead_goodtau_pt, \"\n",
    "                \"lead_sublead_goodtau_eta, \"\n",
    "                \"lead_sublead_goodtau_phi, \"\n",
    "                \"lead_sublead_goodtau_mass, \"\n",
    "                \"0.5)\"\n",
    "      \"].size() <= 999)\"\n",
    ")\n",
    "df_34 = new_df.Filter(\n",
    "    \"lead_sublead_goodtau_pt[0] >= (34 + 18) \"\n",
    "    \"&& lead_sublead_goodtau_pt[1] >= (34 + 8)\"\n",
    "    \"&& (Jet_pt[\"\n",
    "            \"(Jet_pt >= (20 + 10)) && abs(Jet_eta) <= 4.7 && Jet_jetId >= 2 \"\n",
    "            \"&& ((Jet_puId >= 4 && Jet_pt <= 50) || (Jet_pt > 50))\"\n",
    "            \"&& maskDeltaR(\"\n",
    "                \"Jet_pt, \"\n",
    "                \"Jet_eta, \"\n",
    "                \"Jet_phi, \"\n",
    "                \"Jet_pt, \"\n",
    "                \"lead_sublead_goodtau_pt, \"\n",
    "                \"lead_sublead_goodtau_eta, \"\n",
    "                \"lead_sublead_goodtau_phi, \"\n",
    "                \"lead_sublead_goodtau_mass, \"\n",
    "                \"0.5)\"\n",
    "     \"].size() >= 2)\"\n",
    "     \"&& (Jet_pt[\"\n",
    "            \"(Jet_pt >= (20 + 10)) && abs(Jet_eta) <= 4.7 && Jet_jetId >= 2 \"\n",
    "            \"&& ((Jet_puId >= 4 && Jet_pt <= 50) || (Jet_pt > 50))\"\n",
    "            \"&& maskDeltaR(\"\n",
    "                \"Jet_pt, \"\n",
    "                \"Jet_eta, \"\n",
    "                \"Jet_phi, \"\n",
    "                \"Jet_pt, \"\n",
    "                \"lead_sublead_goodtau_pt, \"\n",
    "                \"lead_sublead_goodtau_eta, \"\n",
    "                \"lead_sublead_goodtau_phi, \"\n",
    "                \"lead_sublead_goodtau_mass, \"\n",
    "                \"0.5)\"\n",
    "      \"].size() <= 999)\"\n",
    ")"
   ]
  },
  {
   "cell_type": "code",
   "execution_count": 36,
   "metadata": {},
   "outputs": [],
   "source": [
    "pass_histos26 = {}\n",
    "pass_histos34 = {}\n",
    "for zz in range(20, 160):\n",
    "    hmodel = (\"passhisto26_\" + str(zz), \"\", 2, 0, 2)\n",
    "    pass_histos26[zz] = df_26.Define(\"pass_jet\" + str(zz),\n",
    "        # ask for at least 1 jet with pt > zz (+ sth depending on the dataset)\n",
    "        \"Jet_pt[\"\n",
    "            \"(Jet_pt >= ({0} + 10)) && abs(Jet_eta) <= 4.7 && Jet_jetId >= 2 \"\n",
    "            \"&& ((Jet_puId >= 4 && Jet_pt <= 50) || (Jet_pt > 50))\"\n",
    "            \"&& maskDeltaR(\"\n",
    "                \"Jet_pt, \"\n",
    "                \"Jet_eta, \"\n",
    "                \"Jet_phi, \"\n",
    "                \"Jet_pt, \" # dum, not needed for deltaR, just for LV\n",
    "                \"lead_sublead_goodtau_pt, \"\n",
    "                \"lead_sublead_goodtau_eta, \"\n",
    "                \"lead_sublead_goodtau_phi, \"\n",
    "                \"lead_sublead_goodtau_mass, \"\n",
    "                \"0.5)\"\n",
    "            \"].size() >= 1\".format(zz)\n",
    "        ).Histo1D(hmodel, \"pass_jet\" + str(zz))\n",
    "    hmodel = (\"passhisto34_\" + str(zz), \"\", 2, 0, 2)\n",
    "    pass_histos34[zz] = df_34.Define(\"pass_jet\" + str(zz),\n",
    "        # ask for at least 1 jet with pt > zz (+ sth depending on the dataset)\n",
    "        \"Jet_pt[\"\n",
    "            \"(Jet_pt >= ({0} + 10)) && abs(Jet_eta) <= 4.7 && Jet_jetId >= 2 \"\n",
    "            \"&& ((Jet_puId >= 4 && Jet_pt <= 50) || (Jet_pt > 50))\"\n",
    "            \"&& maskDeltaR(\"\n",
    "                \"Jet_pt, \"\n",
    "                \"Jet_eta, \"\n",
    "                \"Jet_phi, \"\n",
    "                \"Jet_pt, \" # dum, not needed for deltaR, just for LV\n",
    "                \"lead_sublead_goodtau_pt, \"\n",
    "                \"lead_sublead_goodtau_eta, \"\n",
    "                \"lead_sublead_goodtau_phi, \"\n",
    "                \"lead_sublead_goodtau_mass, \"\n",
    "                \"0.5)\"\n",
    "            \"].size() >= 1\".format(zz)\n",
    "        ).Histo1D(hmodel, \"pass_jet\" + str(zz))"
   ]
  },
  {
   "cell_type": "code",
   "execution_count": 37,
   "metadata": {},
   "outputs": [],
   "source": [
    "passhisto2D26 = ROOT.TH2F(\"passhisto2D26\", \"\", 140, 20, 160, 2, 0, 2)\n",
    "passhisto2D34 = ROOT.TH2F(\"passhisto2D34\", \"\", 140, 20, 160, 2, 0, 2)\n",
    "for zz in range(20, 160):\n",
    "    for bin in range(0, 2):\n",
    "        passhisto2D26.SetBinContent(zz - 20 + 1, bin + 1, pass_histos26[zz].GetBinContent(bin + 1))\n",
    "        passhisto2D34.SetBinContent(zz - 20 + 1, bin + 1, pass_histos34[zz].GetBinContent(bin + 1))"
   ]
  },
  {
   "cell_type": "code",
   "execution_count": 38,
   "metadata": {},
   "outputs": [],
   "source": [
    "histo_pass26 = ROOT.TH1F(\"histo_pass26\", \"\", 140, 20, 160)\n",
    "histo_pass34 = ROOT.TH1F(\"histo_pass34\", \"\", 140, 20, 160)\n",
    "for zz in range(20, 160):\n",
    "    num = sum([passhisto2D26.GetBinContent(zz - 20 + 1, bin + 1) * bin for bin in range(0, 2)])\n",
    "    den = sum([passhisto2D26.GetBinContent(zz - 20 + 1, bin + 1)       for bin in range(0, 2)])\n",
    "    histo_pass26.SetBinContent(zz - 20 + 1,  0 if den == 0 else num / den)\n",
    "    \n",
    "    num = sum([passhisto2D34.GetBinContent(zz - 20 + 1, bin + 1) * bin for bin in range(0, 2)])\n",
    "    den = sum([passhisto2D34.GetBinContent(zz - 20 + 1, bin + 1)       for bin in range(0, 2)])\n",
    "    histo_pass34.SetBinContent(zz - 20 + 1,  0 if den == 0 else num / den)"
   ]
  },
  {
   "cell_type": "code",
   "execution_count": 39,
   "metadata": {},
   "outputs": [
    {
     "data": {
      "image/png": "[encoded data removed]",
      "text/plain": [
       "<IPython.core.display.Image object>"
      ]
     },
     "metadata": {},
     "output_type": "display_data"
    }
   ],
   "source": [
    "ROOT.gStyle.SetOptStat(0)\n",
    "c = ROOT.TCanvas(\"\", \"\", 800, 800)\n",
    "h1 = histo_pass26.Clone()\n",
    "h2 = histo_pass34.Clone()\n",
    "\n",
    "h1.SetLineColor(ROOT.kRed)\n",
    "\n",
    "h1.Draw()\n",
    "h2.Draw(\"same\")\n",
    "c.Draw()"
   ]
  },
  {
   "cell_type": "markdown",
   "metadata": {},
   "source": [
    "## Trying to reproduce the trigger requirements by hand"
   ]
  },
  {
   "cell_type": "code",
   "execution_count": 6,
   "metadata": {},
   "outputs": [
    {
     "ename": "NameError",
     "evalue": "name 'df' is not defined",
     "output_type": "error",
     "traceback": [
      "\u001b[0;31m\u001b[0m",
      "\u001b[0;31mNameError\u001b[0mTraceback (most recent call last)",
      "\u001b[0;32m<ipython-input-6-4688e826c988>\u001b[0m in \u001b[0;36m<module>\u001b[0;34m()\u001b[0m\n\u001b[1;32m     13\u001b[0m )\n\u001b[1;32m     14\u001b[0m \u001b[0mname\u001b[0m \u001b[0;34m=\u001b[0m \u001b[0;34m\"DoubleIsoTau{}er2p1Jet{}dR0p5\"\u001b[0m\u001b[0;34m.\u001b[0m\u001b[0mformat\u001b[0m\u001b[0;34m(\u001b[0m\u001b[0myy\u001b[0m\u001b[0;34m,\u001b[0m \u001b[0mzz\u001b[0m\u001b[0;34m)\u001b[0m\u001b[0;34m\u001b[0m\u001b[0m\n\u001b[0;32m---> 15\u001b[0;31m df = df.Define(name,\n\u001b[0m\u001b[1;32m     16\u001b[0m     \u001b[0;34m\"lead_sublead_goodl1tau_pt[0] >= {0} \"\u001b[0m\u001b[0;34m\u001b[0m\u001b[0m\n\u001b[1;32m     17\u001b[0m     \u001b[0;34m\"&& lead_sublead_goodl1tau_pt[1] >= {0}\"\u001b[0m\u001b[0;34m\u001b[0m\u001b[0m\n",
      "\u001b[0;31mNameError\u001b[0m: name 'df' is not defined"
     ]
    }
   ],
   "source": [
    "xx = 34\n",
    "yy = 26\n",
    "zz = 64\n",
    "\n",
    "name = \"DoubleIsoTau{}er2p1\".format(xx)\n",
    "new_df = new_df.Define(name, \n",
    "    \"L1Obj_pt[\"\n",
    "        \"L1Obj_type == 1 \"\n",
    "        \"&& abs(L1Obj_eta) <= 2.1 \"\n",
    "        \"&& L1Obj_iso == 1 \"\n",
    "        \"&& L1Obj_pt >= {}\"\n",
    "    \"].size() >= 2\".format(xx)\n",
    ")\n",
    "name = \"DoubleIsoTau{}er2p1Jet{}dR0p5\".format(yy, zz)\n",
    "new_df = new_df.Define(name,\n",
    "    \"lead_sublead_goodl1tau_pt[0] >= {0} \"\n",
    "    \"&& lead_sublead_goodl1tau_pt[1] >= {0}\"\n",
    "    \"&& (L1Obj_pt[\"\n",
    "        \"L1Obj_type == 0 \"\n",
    "        \"&& L1Obj_pt >= {1} \"\n",
    "        \"&& maskDeltaR(\"\n",
    "            \"L1Obj_pt, \"\n",
    "            \"L1Obj_eta, \"\n",
    "            \"L1Obj_phi, \"\n",
    "            \"L1Obj_pt, \" # dum, not needed for deltaR, just for TLorentzVector\n",
    "            \"lead_sublead_goodl1tau_pt, \"\n",
    "            \"lead_sublead_goodl1tau_eta, \"\n",
    "            \"lead_sublead_goodl1tau_phi, \"\n",
    "            \"lead_sublead_goodl1tau_pt, \" # dum\n",
    "            \"0.5)\"\n",
    "        \"].size() >= 1)\".format(yy, zz))"
   ]
  },
  {
   "cell_type": "code",
   "execution_count": 45,
   "metadata": {},
   "outputs": [],
   "source": [
    "name = \"RecoDoubleIsoTau{}er2p1\".format(xx)\n",
    "new_df = new_df.Define(name, \n",
    "    \"lead_sublead_goodtau_pt[0] >= ({0} + {1}) \"\n",
    "    \"&& lead_sublead_goodtau_pt[1] >= ({0} + {2})\".format(\n",
    "        xx, \n",
    "        18,\n",
    "        8\n",
    "    )\n",
    ")"
   ]
  },
  {
   "cell_type": "code",
   "execution_count": 65,
   "metadata": {},
   "outputs": [],
   "source": [
    "l1_events = 0\n",
    "reco_events = 0\n",
    "and_events = 0\n",
    "total_events = 0\n",
    "for event in f.Events:\n",
    "    total_events += 1\n",
    "    \n",
    "    # start storing the 4-vectors for the leading and subleading taus\n",
    "    # these are used only in the future to compute the deltaR between the taus and jets\n",
    "    # so we only need eta and phi. pt and mass are stored just to build the TLorentzVector\n",
    "    # note: as L1 does not compute the object's mass, we fill its spot with the pt as a dummy value, \n",
    "    # as it won't be needed\n",
    "    leading_l1_tau = [-1., -1., -1., -1.]\n",
    "    subleading_l1_tau = [-1., -1., -1., -1.]\n",
    "    for L1Obj in zip(event.L1Obj_pt, event.L1Obj_type, event.L1Obj_eta, event.L1Obj_phi, event.L1Obj_iso):\n",
    "        if L1Obj[1] != 1: continue # skip if it's not a tau\n",
    "        if abs(L1Obj[2]) > 2.1: continue # skip if the L1 tau doesn't pass the eta req\n",
    "        if L1Obj[4] != 1: continue # skip if the L1 tau is not isolated\n",
    "\n",
    "        if L1Obj[0] > leading_l1_tau[0]:\n",
    "            subleading_l1_tau = [leading_l1_tau[0], leading_l1_tau[1], leading_l1_tau[2], leading_l1_tau[3]]\n",
    "            leading_l1_tau = [L1Obj[0], L1Obj[2], L1Obj[3], L1Obj[0]]\n",
    "        elif L1Obj[0] > subleading_l1_tau[0]:\n",
    "            subleading_l1_tau = [L1Obj[0], L1Obj[2], L1Obj[3], L1Obj[0]]\n",
    "\n",
    "    if leading_l1_tau[0] >= xx and subleading_l1_tau[0] >= xx: l1_events += 1\n",
    "        \n",
    "    leading_tau = [-1., -1., -1., -1.]\n",
    "    subleading_tau = [-1., -1., -1., -1.]\n",
    "    for tau in zip(event.Tau_pt, event.Tau_eta, event.Tau_phi, event.Tau_mass):\n",
    "        if abs(tau[1]) > 2.1: continue\n",
    "        if tau[0] > leading_tau[0]:\n",
    "            subleading_tau = [leading_tau[0], leading_tau[1], leading_tau[2], leading_tau[3]]\n",
    "            leading_tau = [tau[0], tau[1], tau[2], tau[3]]\n",
    "        elif tau[0] > subleading_tau[0]:\n",
    "            subleading_tau = [tau[0], tau[1], tau[2], tau[3]]\n",
    "    if leading_tau[0] >= xx + 18 and subleading_tau[0] >= xx + 8:\n",
    "        reco_events += 1\n",
    "        if leading_l1_tau[0] >= xx and subleading_l1_tau[0] >= xx:\n",
    "            and_events += 1"
   ]
  },
  {
   "cell_type": "code",
   "execution_count": 66,
   "metadata": {},
   "outputs": [
    {
     "name": "stdout",
     "output_type": "stream",
     "text": [
      "8497 1943 1395 80000\n"
     ]
    }
   ],
   "source": [
    "print l1_events, reco_events, and_events, total_events"
   ]
  },
  {
   "cell_type": "code",
   "execution_count": 51,
   "metadata": {},
   "outputs": [],
   "source": [
    "hmodel = (\"histo32\", \"\", 2, 0, 2)\n",
    "histo = new_df.Define(\"pass\", \"DoubleIsoTau32er2p1\").Histo1D(hmodel, \"pass\")\n",
    "histoReco = new_df.Define(\"pass\", \"RecoDoubleIsoTau32er2p1\").Histo1D(hmodel, \"pass\")\n",
    "histoAND = new_df.Define(\"pass\", \"DoubleIsoTau32er2p1 && RecoDoubleIsoTau32er2p1\").Histo1D(hmodel, \"pass\")"
   ]
  },
  {
   "cell_type": "code",
   "execution_count": 52,
   "metadata": {},
   "outputs": [
    {
     "name": "stdout",
     "output_type": "stream",
     "text": [
      "8497.0\n",
      "1943.0\n",
      "1395.0\n"
     ]
    }
   ],
   "source": [
    "c = ROOT.TCanvas(\"\", \"\", 800, 800)\n",
    "h = histo.Clone()\n",
    "h.Draw()\n",
    "#c.Draw()\n",
    "print histo.GetBinContent(2)\n",
    "print histoReco.GetBinContent(2)\n",
    "print histoAND.GetBinContent(2)"
   ]
  },
  {
   "cell_type": "code",
   "execution_count": null,
   "metadata": {},
   "outputs": [],
   "source": []
  }
 ],
 "metadata": {
  "kernelspec": {
   "display_name": "Python 2",
   "language": "python",
   "name": "python2"
  },
  "language_info": {
   "codemirror_mode": {
    "name": "ipython",
    "version": 2
   },
   "file_extension": ".py",
   "mimetype": "text/x-python",
   "name": "python",
   "nbconvert_exporter": "python",
   "pygments_lexer": "ipython2",
   "version": "2.7.15+"
  }
 },
 "nbformat": 4,
 "nbformat_minor": 2
}
